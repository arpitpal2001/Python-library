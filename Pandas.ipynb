{
 "cells": [
  {
   "cell_type": "code",
   "execution_count": 1,
   "id": "9b67c6cb",
   "metadata": {},
   "outputs": [],
   "source": [
    "import numpy as np\n",
    "import pandas as pd"
   ]
  },
  {
   "cell_type": "code",
   "execution_count": 2,
   "id": "1344bd7a",
   "metadata": {},
   "outputs": [],
   "source": [
    "dict1 = {\n",
    "    \"name\":[\"Arpit\", \"Rohan\", \"Skillf\", \"Shubh\"],\n",
    "    \"marks\":[92,34,24,17],\n",
    "    \"city\":[\"Kanpur\",\"Kolkata\",\"Bareilly\",\"Antarctica\"]\n",
    "}"
   ]
  },
  {
   "cell_type": "code",
   "execution_count": 3,
   "id": "4634c816",
   "metadata": {},
   "outputs": [],
   "source": [
    "df = pd.DataFrame(dict1)"
   ]
  },
  {
   "cell_type": "code",
   "execution_count": 4,
   "id": "4cc6b6db",
   "metadata": {},
   "outputs": [
    {
     "data": {
      "text/html": [
       "<div>\n",
       "<style scoped>\n",
       "    .dataframe tbody tr th:only-of-type {\n",
       "        vertical-align: middle;\n",
       "    }\n",
       "\n",
       "    .dataframe tbody tr th {\n",
       "        vertical-align: top;\n",
       "    }\n",
       "\n",
       "    .dataframe thead th {\n",
       "        text-align: right;\n",
       "    }\n",
       "</style>\n",
       "<table border=\"1\" class=\"dataframe\">\n",
       "  <thead>\n",
       "    <tr style=\"text-align: right;\">\n",
       "      <th></th>\n",
       "      <th>name</th>\n",
       "      <th>marks</th>\n",
       "      <th>city</th>\n",
       "    </tr>\n",
       "  </thead>\n",
       "  <tbody>\n",
       "    <tr>\n",
       "      <th>0</th>\n",
       "      <td>Arpit</td>\n",
       "      <td>92</td>\n",
       "      <td>Kanpur</td>\n",
       "    </tr>\n",
       "    <tr>\n",
       "      <th>1</th>\n",
       "      <td>Rohan</td>\n",
       "      <td>34</td>\n",
       "      <td>Kolkata</td>\n",
       "    </tr>\n",
       "    <tr>\n",
       "      <th>2</th>\n",
       "      <td>Skillf</td>\n",
       "      <td>24</td>\n",
       "      <td>Bareilly</td>\n",
       "    </tr>\n",
       "    <tr>\n",
       "      <th>3</th>\n",
       "      <td>Shubh</td>\n",
       "      <td>17</td>\n",
       "      <td>Antarctica</td>\n",
       "    </tr>\n",
       "  </tbody>\n",
       "</table>\n",
       "</div>"
      ],
      "text/plain": [
       "     name  marks        city\n",
       "0   Arpit     92      Kanpur\n",
       "1   Rohan     34     Kolkata\n",
       "2  Skillf     24    Bareilly\n",
       "3   Shubh     17  Antarctica"
      ]
     },
     "execution_count": 4,
     "metadata": {},
     "output_type": "execute_result"
    }
   ],
   "source": [
    "df"
   ]
  },
  {
   "cell_type": "code",
   "execution_count": 5,
   "id": "d572bb36",
   "metadata": {},
   "outputs": [],
   "source": [
    "df.to_csv('friends.csv')"
   ]
  },
  {
   "cell_type": "code",
   "execution_count": 6,
   "id": "6e80ce1f",
   "metadata": {},
   "outputs": [],
   "source": [
    "df.to_csv('friends_index_false.csv', index = False)"
   ]
  },
  {
   "cell_type": "code",
   "execution_count": 7,
   "id": "88f4ca51",
   "metadata": {},
   "outputs": [
    {
     "data": {
      "text/html": [
       "<div>\n",
       "<style scoped>\n",
       "    .dataframe tbody tr th:only-of-type {\n",
       "        vertical-align: middle;\n",
       "    }\n",
       "\n",
       "    .dataframe tbody tr th {\n",
       "        vertical-align: top;\n",
       "    }\n",
       "\n",
       "    .dataframe thead th {\n",
       "        text-align: right;\n",
       "    }\n",
       "</style>\n",
       "<table border=\"1\" class=\"dataframe\">\n",
       "  <thead>\n",
       "    <tr style=\"text-align: right;\">\n",
       "      <th></th>\n",
       "      <th>name</th>\n",
       "      <th>marks</th>\n",
       "      <th>city</th>\n",
       "    </tr>\n",
       "  </thead>\n",
       "  <tbody>\n",
       "    <tr>\n",
       "      <th>0</th>\n",
       "      <td>Arpit</td>\n",
       "      <td>92</td>\n",
       "      <td>Kanpur</td>\n",
       "    </tr>\n",
       "    <tr>\n",
       "      <th>1</th>\n",
       "      <td>Rohan</td>\n",
       "      <td>34</td>\n",
       "      <td>Kolkata</td>\n",
       "    </tr>\n",
       "  </tbody>\n",
       "</table>\n",
       "</div>"
      ],
      "text/plain": [
       "    name  marks     city\n",
       "0  Arpit     92   Kanpur\n",
       "1  Rohan     34  Kolkata"
      ]
     },
     "execution_count": 7,
     "metadata": {},
     "output_type": "execute_result"
    }
   ],
   "source": [
    "df.head(2)"
   ]
  },
  {
   "cell_type": "code",
   "execution_count": 8,
   "id": "af51f410",
   "metadata": {},
   "outputs": [
    {
     "data": {
      "text/html": [
       "<div>\n",
       "<style scoped>\n",
       "    .dataframe tbody tr th:only-of-type {\n",
       "        vertical-align: middle;\n",
       "    }\n",
       "\n",
       "    .dataframe tbody tr th {\n",
       "        vertical-align: top;\n",
       "    }\n",
       "\n",
       "    .dataframe thead th {\n",
       "        text-align: right;\n",
       "    }\n",
       "</style>\n",
       "<table border=\"1\" class=\"dataframe\">\n",
       "  <thead>\n",
       "    <tr style=\"text-align: right;\">\n",
       "      <th></th>\n",
       "      <th>name</th>\n",
       "      <th>marks</th>\n",
       "      <th>city</th>\n",
       "    </tr>\n",
       "  </thead>\n",
       "  <tbody>\n",
       "    <tr>\n",
       "      <th>2</th>\n",
       "      <td>Skillf</td>\n",
       "      <td>24</td>\n",
       "      <td>Bareilly</td>\n",
       "    </tr>\n",
       "    <tr>\n",
       "      <th>3</th>\n",
       "      <td>Shubh</td>\n",
       "      <td>17</td>\n",
       "      <td>Antarctica</td>\n",
       "    </tr>\n",
       "  </tbody>\n",
       "</table>\n",
       "</div>"
      ],
      "text/plain": [
       "     name  marks        city\n",
       "2  Skillf     24    Bareilly\n",
       "3   Shubh     17  Antarctica"
      ]
     },
     "execution_count": 8,
     "metadata": {},
     "output_type": "execute_result"
    }
   ],
   "source": [
    "df.tail(2)"
   ]
  },
  {
   "cell_type": "code",
   "execution_count": 9,
   "id": "8b8b5a7b",
   "metadata": {},
   "outputs": [
    {
     "data": {
      "text/html": [
       "<div>\n",
       "<style scoped>\n",
       "    .dataframe tbody tr th:only-of-type {\n",
       "        vertical-align: middle;\n",
       "    }\n",
       "\n",
       "    .dataframe tbody tr th {\n",
       "        vertical-align: top;\n",
       "    }\n",
       "\n",
       "    .dataframe thead th {\n",
       "        text-align: right;\n",
       "    }\n",
       "</style>\n",
       "<table border=\"1\" class=\"dataframe\">\n",
       "  <thead>\n",
       "    <tr style=\"text-align: right;\">\n",
       "      <th></th>\n",
       "      <th>marks</th>\n",
       "    </tr>\n",
       "  </thead>\n",
       "  <tbody>\n",
       "    <tr>\n",
       "      <th>count</th>\n",
       "      <td>4.00000</td>\n",
       "    </tr>\n",
       "    <tr>\n",
       "      <th>mean</th>\n",
       "      <td>41.75000</td>\n",
       "    </tr>\n",
       "    <tr>\n",
       "      <th>std</th>\n",
       "      <td>34.21866</td>\n",
       "    </tr>\n",
       "    <tr>\n",
       "      <th>min</th>\n",
       "      <td>17.00000</td>\n",
       "    </tr>\n",
       "    <tr>\n",
       "      <th>25%</th>\n",
       "      <td>22.25000</td>\n",
       "    </tr>\n",
       "    <tr>\n",
       "      <th>50%</th>\n",
       "      <td>29.00000</td>\n",
       "    </tr>\n",
       "    <tr>\n",
       "      <th>75%</th>\n",
       "      <td>48.50000</td>\n",
       "    </tr>\n",
       "    <tr>\n",
       "      <th>max</th>\n",
       "      <td>92.00000</td>\n",
       "    </tr>\n",
       "  </tbody>\n",
       "</table>\n",
       "</div>"
      ],
      "text/plain": [
       "          marks\n",
       "count   4.00000\n",
       "mean   41.75000\n",
       "std    34.21866\n",
       "min    17.00000\n",
       "25%    22.25000\n",
       "50%    29.00000\n",
       "75%    48.50000\n",
       "max    92.00000"
      ]
     },
     "execution_count": 9,
     "metadata": {},
     "output_type": "execute_result"
    }
   ],
   "source": [
    "df.describe()"
   ]
  },
  {
   "cell_type": "code",
   "execution_count": 10,
   "id": "c73f30a8",
   "metadata": {},
   "outputs": [
    {
     "data": {
      "text/html": [
       "<div>\n",
       "<style scoped>\n",
       "    .dataframe tbody tr th:only-of-type {\n",
       "        vertical-align: middle;\n",
       "    }\n",
       "\n",
       "    .dataframe tbody tr th {\n",
       "        vertical-align: top;\n",
       "    }\n",
       "\n",
       "    .dataframe thead th {\n",
       "        text-align: right;\n",
       "    }\n",
       "</style>\n",
       "<table border=\"1\" class=\"dataframe\">\n",
       "  <thead>\n",
       "    <tr style=\"text-align: right;\">\n",
       "      <th></th>\n",
       "      <th>Unnamed: 0</th>\n",
       "      <th>Unnamed: 0.1</th>\n",
       "      <th>Unnamed: 0.1.1</th>\n",
       "      <th>Unnamed: 0.1.1.1</th>\n",
       "      <th>Unnamed: 0.1.1.1.1</th>\n",
       "      <th>Train No.</th>\n",
       "      <th>Speed</th>\n",
       "      <th>City</th>\n",
       "    </tr>\n",
       "  </thead>\n",
       "  <tbody>\n",
       "    <tr>\n",
       "      <th>0</th>\n",
       "      <td>0</td>\n",
       "      <td>0</td>\n",
       "      <td>0</td>\n",
       "      <td>0</td>\n",
       "      <td>0</td>\n",
       "      <td>12322</td>\n",
       "      <td>50</td>\n",
       "      <td>Kanpur</td>\n",
       "    </tr>\n",
       "    <tr>\n",
       "      <th>1</th>\n",
       "      <td>1</td>\n",
       "      <td>1</td>\n",
       "      <td>1</td>\n",
       "      <td>1</td>\n",
       "      <td>1</td>\n",
       "      <td>12534</td>\n",
       "      <td>123</td>\n",
       "      <td>Kolkata</td>\n",
       "    </tr>\n",
       "    <tr>\n",
       "      <th>2</th>\n",
       "      <td>2</td>\n",
       "      <td>2</td>\n",
       "      <td>2</td>\n",
       "      <td>2</td>\n",
       "      <td>2</td>\n",
       "      <td>125654</td>\n",
       "      <td>67</td>\n",
       "      <td>Bareilly</td>\n",
       "    </tr>\n",
       "    <tr>\n",
       "      <th>3</th>\n",
       "      <td>3</td>\n",
       "      <td>3</td>\n",
       "      <td>3</td>\n",
       "      <td>3</td>\n",
       "      <td>3</td>\n",
       "      <td>564523</td>\n",
       "      <td>87</td>\n",
       "      <td>Antarctica</td>\n",
       "    </tr>\n",
       "  </tbody>\n",
       "</table>\n",
       "</div>"
      ],
      "text/plain": [
       "   Unnamed: 0  Unnamed: 0.1  Unnamed: 0.1.1  Unnamed: 0.1.1.1  \\\n",
       "0           0             0               0                 0   \n",
       "1           1             1               1                 1   \n",
       "2           2             2               2                 2   \n",
       "3           3             3               3                 3   \n",
       "\n",
       "   Unnamed: 0.1.1.1.1  Train No.  Speed        City  \n",
       "0                   0      12322     50      Kanpur  \n",
       "1                   1      12534    123     Kolkata  \n",
       "2                   2     125654     67    Bareilly  \n",
       "3                   3     564523     87  Antarctica  "
      ]
     },
     "execution_count": 10,
     "metadata": {},
     "output_type": "execute_result"
    }
   ],
   "source": [
    "arpit = pd.read_csv('arpit.csv')\n",
    "arpit"
   ]
  },
  {
   "cell_type": "code",
   "execution_count": 11,
   "id": "8134a3ca",
   "metadata": {},
   "outputs": [
    {
     "name": "stderr",
     "output_type": "stream",
     "text": [
      "C:\\Users\\Dell\\AppData\\Local\\Temp/ipykernel_13084/2238107010.py:1: SettingWithCopyWarning: \n",
      "A value is trying to be set on a copy of a slice from a DataFrame\n",
      "\n",
      "See the caveats in the documentation: https://pandas.pydata.org/pandas-docs/stable/user_guide/indexing.html#returning-a-view-versus-a-copy\n",
      "  arpit['Speed'][0]=50\n"
     ]
    },
    {
     "data": {
      "text/html": [
       "<div>\n",
       "<style scoped>\n",
       "    .dataframe tbody tr th:only-of-type {\n",
       "        vertical-align: middle;\n",
       "    }\n",
       "\n",
       "    .dataframe tbody tr th {\n",
       "        vertical-align: top;\n",
       "    }\n",
       "\n",
       "    .dataframe thead th {\n",
       "        text-align: right;\n",
       "    }\n",
       "</style>\n",
       "<table border=\"1\" class=\"dataframe\">\n",
       "  <thead>\n",
       "    <tr style=\"text-align: right;\">\n",
       "      <th></th>\n",
       "      <th>Unnamed: 0</th>\n",
       "      <th>Unnamed: 0.1</th>\n",
       "      <th>Unnamed: 0.1.1</th>\n",
       "      <th>Unnamed: 0.1.1.1</th>\n",
       "      <th>Unnamed: 0.1.1.1.1</th>\n",
       "      <th>Train No.</th>\n",
       "      <th>Speed</th>\n",
       "      <th>City</th>\n",
       "    </tr>\n",
       "  </thead>\n",
       "  <tbody>\n",
       "    <tr>\n",
       "      <th>0</th>\n",
       "      <td>0</td>\n",
       "      <td>0</td>\n",
       "      <td>0</td>\n",
       "      <td>0</td>\n",
       "      <td>0</td>\n",
       "      <td>12322</td>\n",
       "      <td>50</td>\n",
       "      <td>Kanpur</td>\n",
       "    </tr>\n",
       "    <tr>\n",
       "      <th>1</th>\n",
       "      <td>1</td>\n",
       "      <td>1</td>\n",
       "      <td>1</td>\n",
       "      <td>1</td>\n",
       "      <td>1</td>\n",
       "      <td>12534</td>\n",
       "      <td>123</td>\n",
       "      <td>Kolkata</td>\n",
       "    </tr>\n",
       "    <tr>\n",
       "      <th>2</th>\n",
       "      <td>2</td>\n",
       "      <td>2</td>\n",
       "      <td>2</td>\n",
       "      <td>2</td>\n",
       "      <td>2</td>\n",
       "      <td>125654</td>\n",
       "      <td>67</td>\n",
       "      <td>Bareilly</td>\n",
       "    </tr>\n",
       "    <tr>\n",
       "      <th>3</th>\n",
       "      <td>3</td>\n",
       "      <td>3</td>\n",
       "      <td>3</td>\n",
       "      <td>3</td>\n",
       "      <td>3</td>\n",
       "      <td>564523</td>\n",
       "      <td>87</td>\n",
       "      <td>Antarctica</td>\n",
       "    </tr>\n",
       "  </tbody>\n",
       "</table>\n",
       "</div>"
      ],
      "text/plain": [
       "   Unnamed: 0  Unnamed: 0.1  Unnamed: 0.1.1  Unnamed: 0.1.1.1  \\\n",
       "0           0             0               0                 0   \n",
       "1           1             1               1                 1   \n",
       "2           2             2               2                 2   \n",
       "3           3             3               3                 3   \n",
       "\n",
       "   Unnamed: 0.1.1.1.1  Train No.  Speed        City  \n",
       "0                   0      12322     50      Kanpur  \n",
       "1                   1      12534    123     Kolkata  \n",
       "2                   2     125654     67    Bareilly  \n",
       "3                   3     564523     87  Antarctica  "
      ]
     },
     "execution_count": 11,
     "metadata": {},
     "output_type": "execute_result"
    }
   ],
   "source": [
    "arpit['Speed'][0]=50\n",
    "arpit"
   ]
  },
  {
   "cell_type": "code",
   "execution_count": 12,
   "id": "1907bdba",
   "metadata": {},
   "outputs": [],
   "source": [
    "arpit.to_csv('arpit.csv')"
   ]
  },
  {
   "cell_type": "code",
   "execution_count": 13,
   "id": "a6dc6120",
   "metadata": {},
   "outputs": [
    {
     "data": {
      "text/html": [
       "<div>\n",
       "<style scoped>\n",
       "    .dataframe tbody tr th:only-of-type {\n",
       "        vertical-align: middle;\n",
       "    }\n",
       "\n",
       "    .dataframe tbody tr th {\n",
       "        vertical-align: top;\n",
       "    }\n",
       "\n",
       "    .dataframe thead th {\n",
       "        text-align: right;\n",
       "    }\n",
       "</style>\n",
       "<table border=\"1\" class=\"dataframe\">\n",
       "  <thead>\n",
       "    <tr style=\"text-align: right;\">\n",
       "      <th></th>\n",
       "      <th>Unnamed: 0</th>\n",
       "      <th>Unnamed: 0.1</th>\n",
       "      <th>Unnamed: 0.1.1</th>\n",
       "      <th>Unnamed: 0.1.1.1</th>\n",
       "      <th>Unnamed: 0.1.1.1.1</th>\n",
       "      <th>Train No.</th>\n",
       "      <th>Speed</th>\n",
       "      <th>City</th>\n",
       "    </tr>\n",
       "  </thead>\n",
       "  <tbody>\n",
       "    <tr>\n",
       "      <th>1st</th>\n",
       "      <td>0</td>\n",
       "      <td>0</td>\n",
       "      <td>0</td>\n",
       "      <td>0</td>\n",
       "      <td>0</td>\n",
       "      <td>12322</td>\n",
       "      <td>50</td>\n",
       "      <td>Kanpur</td>\n",
       "    </tr>\n",
       "    <tr>\n",
       "      <th>2nd</th>\n",
       "      <td>1</td>\n",
       "      <td>1</td>\n",
       "      <td>1</td>\n",
       "      <td>1</td>\n",
       "      <td>1</td>\n",
       "      <td>12534</td>\n",
       "      <td>123</td>\n",
       "      <td>Kolkata</td>\n",
       "    </tr>\n",
       "    <tr>\n",
       "      <th>3rd</th>\n",
       "      <td>2</td>\n",
       "      <td>2</td>\n",
       "      <td>2</td>\n",
       "      <td>2</td>\n",
       "      <td>2</td>\n",
       "      <td>125654</td>\n",
       "      <td>67</td>\n",
       "      <td>Bareilly</td>\n",
       "    </tr>\n",
       "    <tr>\n",
       "      <th>4th</th>\n",
       "      <td>3</td>\n",
       "      <td>3</td>\n",
       "      <td>3</td>\n",
       "      <td>3</td>\n",
       "      <td>3</td>\n",
       "      <td>564523</td>\n",
       "      <td>87</td>\n",
       "      <td>Antarctica</td>\n",
       "    </tr>\n",
       "  </tbody>\n",
       "</table>\n",
       "</div>"
      ],
      "text/plain": [
       "     Unnamed: 0  Unnamed: 0.1  Unnamed: 0.1.1  Unnamed: 0.1.1.1  \\\n",
       "1st           0             0               0                 0   \n",
       "2nd           1             1               1                 1   \n",
       "3rd           2             2               2                 2   \n",
       "4th           3             3               3                 3   \n",
       "\n",
       "     Unnamed: 0.1.1.1.1  Train No.  Speed        City  \n",
       "1st                   0      12322     50      Kanpur  \n",
       "2nd                   1      12534    123     Kolkata  \n",
       "3rd                   2     125654     67    Bareilly  \n",
       "4th                   3     564523     87  Antarctica  "
      ]
     },
     "execution_count": 13,
     "metadata": {},
     "output_type": "execute_result"
    }
   ],
   "source": [
    "arpit.index = ['1st','2nd','3rd','4th']\n",
    "arpit"
   ]
  },
  {
   "cell_type": "code",
   "execution_count": 14,
   "id": "76d0b32c",
   "metadata": {},
   "outputs": [
    {
     "data": {
      "text/plain": [
       "0    0.666522\n",
       "1    0.297030\n",
       "2    0.172670\n",
       "3    0.590476\n",
       "4    0.187860\n",
       "5    0.938777\n",
       "6    0.562331\n",
       "7    0.238152\n",
       "8    0.913112\n",
       "9    0.870851\n",
       "dtype: float64"
      ]
     },
     "execution_count": 14,
     "metadata": {},
     "output_type": "execute_result"
    }
   ],
   "source": [
    "ser = pd.Series(np.random.rand(10))\n",
    "ser"
   ]
  },
  {
   "cell_type": "code",
   "execution_count": 15,
   "id": "87907168",
   "metadata": {},
   "outputs": [
    {
     "data": {
      "text/html": [
       "<div>\n",
       "<style scoped>\n",
       "    .dataframe tbody tr th:only-of-type {\n",
       "        vertical-align: middle;\n",
       "    }\n",
       "\n",
       "    .dataframe tbody tr th {\n",
       "        vertical-align: top;\n",
       "    }\n",
       "\n",
       "    .dataframe thead th {\n",
       "        text-align: right;\n",
       "    }\n",
       "</style>\n",
       "<table border=\"1\" class=\"dataframe\">\n",
       "  <thead>\n",
       "    <tr style=\"text-align: right;\">\n",
       "      <th></th>\n",
       "      <th>0</th>\n",
       "      <th>1</th>\n",
       "      <th>2</th>\n",
       "      <th>3</th>\n",
       "      <th>4</th>\n",
       "    </tr>\n",
       "  </thead>\n",
       "  <tbody>\n",
       "    <tr>\n",
       "      <th>0</th>\n",
       "      <td>0.400293</td>\n",
       "      <td>0.450386</td>\n",
       "      <td>0.022254</td>\n",
       "      <td>0.163178</td>\n",
       "      <td>0.355039</td>\n",
       "    </tr>\n",
       "    <tr>\n",
       "      <th>1</th>\n",
       "      <td>0.836433</td>\n",
       "      <td>0.744289</td>\n",
       "      <td>0.411682</td>\n",
       "      <td>0.602689</td>\n",
       "      <td>0.829681</td>\n",
       "    </tr>\n",
       "    <tr>\n",
       "      <th>2</th>\n",
       "      <td>0.285059</td>\n",
       "      <td>0.691615</td>\n",
       "      <td>0.441539</td>\n",
       "      <td>0.797178</td>\n",
       "      <td>0.393300</td>\n",
       "    </tr>\n",
       "    <tr>\n",
       "      <th>3</th>\n",
       "      <td>0.221557</td>\n",
       "      <td>0.098967</td>\n",
       "      <td>0.001139</td>\n",
       "      <td>0.229372</td>\n",
       "      <td>0.938062</td>\n",
       "    </tr>\n",
       "    <tr>\n",
       "      <th>4</th>\n",
       "      <td>0.882057</td>\n",
       "      <td>0.527276</td>\n",
       "      <td>0.194633</td>\n",
       "      <td>0.684752</td>\n",
       "      <td>0.865243</td>\n",
       "    </tr>\n",
       "  </tbody>\n",
       "</table>\n",
       "</div>"
      ],
      "text/plain": [
       "          0         1         2         3         4\n",
       "0  0.400293  0.450386  0.022254  0.163178  0.355039\n",
       "1  0.836433  0.744289  0.411682  0.602689  0.829681\n",
       "2  0.285059  0.691615  0.441539  0.797178  0.393300\n",
       "3  0.221557  0.098967  0.001139  0.229372  0.938062\n",
       "4  0.882057  0.527276  0.194633  0.684752  0.865243"
      ]
     },
     "execution_count": 15,
     "metadata": {},
     "output_type": "execute_result"
    }
   ],
   "source": [
    "newdf =  pd.DataFrame(np.random.rand(334,5),index = np.arange(334))\n",
    "newdf.head(5)"
   ]
  },
  {
   "cell_type": "code",
   "execution_count": 16,
   "id": "ca2351b2",
   "metadata": {},
   "outputs": [
    {
     "data": {
      "text/plain": [
       "pandas.core.frame.DataFrame"
      ]
     },
     "execution_count": 16,
     "metadata": {},
     "output_type": "execute_result"
    }
   ],
   "source": [
    "type(newdf)"
   ]
  },
  {
   "cell_type": "code",
   "execution_count": 17,
   "id": "3c73877c",
   "metadata": {},
   "outputs": [
    {
     "data": {
      "text/plain": [
       "0    float64\n",
       "1    float64\n",
       "2    float64\n",
       "3    float64\n",
       "4    float64\n",
       "dtype: object"
      ]
     },
     "execution_count": 17,
     "metadata": {},
     "output_type": "execute_result"
    }
   ],
   "source": [
    "newdf.dtypes"
   ]
  },
  {
   "cell_type": "code",
   "execution_count": 18,
   "id": "6a2e1636",
   "metadata": {},
   "outputs": [
    {
     "data": {
      "text/html": [
       "<div>\n",
       "<style scoped>\n",
       "    .dataframe tbody tr th:only-of-type {\n",
       "        vertical-align: middle;\n",
       "    }\n",
       "\n",
       "    .dataframe tbody tr th {\n",
       "        vertical-align: top;\n",
       "    }\n",
       "\n",
       "    .dataframe thead th {\n",
       "        text-align: right;\n",
       "    }\n",
       "</style>\n",
       "<table border=\"1\" class=\"dataframe\">\n",
       "  <thead>\n",
       "    <tr style=\"text-align: right;\">\n",
       "      <th></th>\n",
       "      <th>0</th>\n",
       "      <th>1</th>\n",
       "      <th>2</th>\n",
       "      <th>3</th>\n",
       "      <th>4</th>\n",
       "    </tr>\n",
       "  </thead>\n",
       "  <tbody>\n",
       "    <tr>\n",
       "      <th>0</th>\n",
       "      <td>arpit</td>\n",
       "      <td>0.450386</td>\n",
       "      <td>0.022254</td>\n",
       "      <td>0.163178</td>\n",
       "      <td>0.355039</td>\n",
       "    </tr>\n",
       "    <tr>\n",
       "      <th>1</th>\n",
       "      <td>0.836433</td>\n",
       "      <td>0.744289</td>\n",
       "      <td>0.411682</td>\n",
       "      <td>0.602689</td>\n",
       "      <td>0.829681</td>\n",
       "    </tr>\n",
       "    <tr>\n",
       "      <th>2</th>\n",
       "      <td>0.285059</td>\n",
       "      <td>0.691615</td>\n",
       "      <td>0.441539</td>\n",
       "      <td>0.797178</td>\n",
       "      <td>0.393300</td>\n",
       "    </tr>\n",
       "    <tr>\n",
       "      <th>3</th>\n",
       "      <td>0.221557</td>\n",
       "      <td>0.098967</td>\n",
       "      <td>0.001139</td>\n",
       "      <td>0.229372</td>\n",
       "      <td>0.938062</td>\n",
       "    </tr>\n",
       "    <tr>\n",
       "      <th>4</th>\n",
       "      <td>0.882057</td>\n",
       "      <td>0.527276</td>\n",
       "      <td>0.194633</td>\n",
       "      <td>0.684752</td>\n",
       "      <td>0.865243</td>\n",
       "    </tr>\n",
       "    <tr>\n",
       "      <th>...</th>\n",
       "      <td>...</td>\n",
       "      <td>...</td>\n",
       "      <td>...</td>\n",
       "      <td>...</td>\n",
       "      <td>...</td>\n",
       "    </tr>\n",
       "    <tr>\n",
       "      <th>329</th>\n",
       "      <td>0.3411</td>\n",
       "      <td>0.035466</td>\n",
       "      <td>0.932812</td>\n",
       "      <td>0.847581</td>\n",
       "      <td>0.473691</td>\n",
       "    </tr>\n",
       "    <tr>\n",
       "      <th>330</th>\n",
       "      <td>0.150812</td>\n",
       "      <td>0.375594</td>\n",
       "      <td>0.181497</td>\n",
       "      <td>0.574786</td>\n",
       "      <td>0.968839</td>\n",
       "    </tr>\n",
       "    <tr>\n",
       "      <th>331</th>\n",
       "      <td>0.578659</td>\n",
       "      <td>0.506763</td>\n",
       "      <td>0.814301</td>\n",
       "      <td>0.991126</td>\n",
       "      <td>0.990056</td>\n",
       "    </tr>\n",
       "    <tr>\n",
       "      <th>332</th>\n",
       "      <td>0.850207</td>\n",
       "      <td>0.027418</td>\n",
       "      <td>0.326185</td>\n",
       "      <td>0.957844</td>\n",
       "      <td>0.197288</td>\n",
       "    </tr>\n",
       "    <tr>\n",
       "      <th>333</th>\n",
       "      <td>0.786411</td>\n",
       "      <td>0.788574</td>\n",
       "      <td>0.711164</td>\n",
       "      <td>0.088737</td>\n",
       "      <td>0.028369</td>\n",
       "    </tr>\n",
       "  </tbody>\n",
       "</table>\n",
       "<p>334 rows × 5 columns</p>\n",
       "</div>"
      ],
      "text/plain": [
       "            0         1         2         3         4\n",
       "0       arpit  0.450386  0.022254  0.163178  0.355039\n",
       "1    0.836433  0.744289  0.411682  0.602689  0.829681\n",
       "2    0.285059  0.691615  0.441539  0.797178  0.393300\n",
       "3    0.221557  0.098967  0.001139  0.229372  0.938062\n",
       "4    0.882057  0.527276  0.194633  0.684752  0.865243\n",
       "..        ...       ...       ...       ...       ...\n",
       "329    0.3411  0.035466  0.932812  0.847581  0.473691\n",
       "330  0.150812  0.375594  0.181497  0.574786  0.968839\n",
       "331  0.578659  0.506763  0.814301  0.991126  0.990056\n",
       "332  0.850207  0.027418  0.326185  0.957844  0.197288\n",
       "333  0.786411  0.788574  0.711164  0.088737  0.028369\n",
       "\n",
       "[334 rows x 5 columns]"
      ]
     },
     "execution_count": 18,
     "metadata": {},
     "output_type": "execute_result"
    }
   ],
   "source": [
    "newdf[0][0] = 'arpit'\n",
    "newdf"
   ]
  },
  {
   "cell_type": "code",
   "execution_count": 19,
   "id": "3b4707cf",
   "metadata": {},
   "outputs": [
    {
     "data": {
      "text/plain": [
       "Int64Index([  0,   1,   2,   3,   4,   5,   6,   7,   8,   9,\n",
       "            ...\n",
       "            324, 325, 326, 327, 328, 329, 330, 331, 332, 333],\n",
       "           dtype='int64', length=334)"
      ]
     },
     "execution_count": 19,
     "metadata": {},
     "output_type": "execute_result"
    }
   ],
   "source": [
    "newdf.index"
   ]
  },
  {
   "cell_type": "code",
   "execution_count": 20,
   "id": "26216c12",
   "metadata": {},
   "outputs": [
    {
     "data": {
      "text/plain": [
       "RangeIndex(start=0, stop=5, step=1)"
      ]
     },
     "execution_count": 20,
     "metadata": {},
     "output_type": "execute_result"
    }
   ],
   "source": [
    "newdf.columns"
   ]
  },
  {
   "cell_type": "code",
   "execution_count": 21,
   "id": "4caee692",
   "metadata": {},
   "outputs": [
    {
     "data": {
      "text/plain": [
       "array([['arpit', 0.45038585140177567, 0.0222541914742016,\n",
       "        0.16317755826774127, 0.3550394575192052],\n",
       "       [0.8364328509482264, 0.7442894411033525, 0.4116819410454131,\n",
       "        0.6026891217484978, 0.8296809001743235],\n",
       "       [0.285058592029091, 0.6916153541158885, 0.4415394579047166,\n",
       "        0.7971779309688191, 0.393299830481473],\n",
       "       ...,\n",
       "       [0.5786594092031665, 0.5067634229729291, 0.814300706386738,\n",
       "        0.9911263016190781, 0.990055786074344],\n",
       "       [0.8502070290492066, 0.027417852549471378, 0.3261851436371588,\n",
       "        0.9578444346995827, 0.19728769876240948],\n",
       "       [0.7864107255636336, 0.7885735801812421, 0.7111641705443293,\n",
       "        0.08873730439341021, 0.02836879003537862]], dtype=object)"
      ]
     },
     "execution_count": 21,
     "metadata": {},
     "output_type": "execute_result"
    }
   ],
   "source": [
    "newdf.to_numpy()"
   ]
  },
  {
   "cell_type": "code",
   "execution_count": 22,
   "id": "dd49ed77",
   "metadata": {},
   "outputs": [],
   "source": [
    "newdf[0][0]=0.3"
   ]
  },
  {
   "cell_type": "code",
   "execution_count": 23,
   "id": "94556bfa",
   "metadata": {},
   "outputs": [
    {
     "data": {
      "text/html": [
       "<div>\n",
       "<style scoped>\n",
       "    .dataframe tbody tr th:only-of-type {\n",
       "        vertical-align: middle;\n",
       "    }\n",
       "\n",
       "    .dataframe tbody tr th {\n",
       "        vertical-align: top;\n",
       "    }\n",
       "\n",
       "    .dataframe thead th {\n",
       "        text-align: right;\n",
       "    }\n",
       "</style>\n",
       "<table border=\"1\" class=\"dataframe\">\n",
       "  <thead>\n",
       "    <tr style=\"text-align: right;\">\n",
       "      <th></th>\n",
       "      <th>0</th>\n",
       "      <th>1</th>\n",
       "      <th>2</th>\n",
       "      <th>3</th>\n",
       "      <th>4</th>\n",
       "    </tr>\n",
       "  </thead>\n",
       "  <tbody>\n",
       "    <tr>\n",
       "      <th>0</th>\n",
       "      <td>0.3</td>\n",
       "      <td>0.450386</td>\n",
       "      <td>0.022254</td>\n",
       "      <td>0.163178</td>\n",
       "      <td>0.355039</td>\n",
       "    </tr>\n",
       "    <tr>\n",
       "      <th>1</th>\n",
       "      <td>0.836433</td>\n",
       "      <td>0.744289</td>\n",
       "      <td>0.411682</td>\n",
       "      <td>0.602689</td>\n",
       "      <td>0.829681</td>\n",
       "    </tr>\n",
       "    <tr>\n",
       "      <th>2</th>\n",
       "      <td>0.285059</td>\n",
       "      <td>0.691615</td>\n",
       "      <td>0.441539</td>\n",
       "      <td>0.797178</td>\n",
       "      <td>0.393300</td>\n",
       "    </tr>\n",
       "    <tr>\n",
       "      <th>3</th>\n",
       "      <td>0.221557</td>\n",
       "      <td>0.098967</td>\n",
       "      <td>0.001139</td>\n",
       "      <td>0.229372</td>\n",
       "      <td>0.938062</td>\n",
       "    </tr>\n",
       "    <tr>\n",
       "      <th>4</th>\n",
       "      <td>0.882057</td>\n",
       "      <td>0.527276</td>\n",
       "      <td>0.194633</td>\n",
       "      <td>0.684752</td>\n",
       "      <td>0.865243</td>\n",
       "    </tr>\n",
       "  </tbody>\n",
       "</table>\n",
       "</div>"
      ],
      "text/plain": [
       "          0         1         2         3         4\n",
       "0       0.3  0.450386  0.022254  0.163178  0.355039\n",
       "1  0.836433  0.744289  0.411682  0.602689  0.829681\n",
       "2  0.285059  0.691615  0.441539  0.797178  0.393300\n",
       "3  0.221557  0.098967  0.001139  0.229372  0.938062\n",
       "4  0.882057  0.527276  0.194633  0.684752  0.865243"
      ]
     },
     "execution_count": 23,
     "metadata": {},
     "output_type": "execute_result"
    }
   ],
   "source": [
    "newdf.head()"
   ]
  },
  {
   "cell_type": "code",
   "execution_count": 24,
   "id": "8c2c2364",
   "metadata": {},
   "outputs": [
    {
     "data": {
      "text/html": [
       "<div>\n",
       "<style scoped>\n",
       "    .dataframe tbody tr th:only-of-type {\n",
       "        vertical-align: middle;\n",
       "    }\n",
       "\n",
       "    .dataframe tbody tr th {\n",
       "        vertical-align: top;\n",
       "    }\n",
       "\n",
       "    .dataframe thead th {\n",
       "        text-align: right;\n",
       "    }\n",
       "</style>\n",
       "<table border=\"1\" class=\"dataframe\">\n",
       "  <thead>\n",
       "    <tr style=\"text-align: right;\">\n",
       "      <th></th>\n",
       "      <th>0</th>\n",
       "      <th>1</th>\n",
       "      <th>2</th>\n",
       "      <th>3</th>\n",
       "      <th>4</th>\n",
       "      <th>5</th>\n",
       "      <th>6</th>\n",
       "      <th>7</th>\n",
       "      <th>8</th>\n",
       "      <th>9</th>\n",
       "      <th>...</th>\n",
       "      <th>324</th>\n",
       "      <th>325</th>\n",
       "      <th>326</th>\n",
       "      <th>327</th>\n",
       "      <th>328</th>\n",
       "      <th>329</th>\n",
       "      <th>330</th>\n",
       "      <th>331</th>\n",
       "      <th>332</th>\n",
       "      <th>333</th>\n",
       "    </tr>\n",
       "  </thead>\n",
       "  <tbody>\n",
       "    <tr>\n",
       "      <th>0</th>\n",
       "      <td>0.3</td>\n",
       "      <td>0.836433</td>\n",
       "      <td>0.285059</td>\n",
       "      <td>0.221557</td>\n",
       "      <td>0.882057</td>\n",
       "      <td>0.325322</td>\n",
       "      <td>0.990625</td>\n",
       "      <td>0.188223</td>\n",
       "      <td>0.886052</td>\n",
       "      <td>0.487581</td>\n",
       "      <td>...</td>\n",
       "      <td>0.794928</td>\n",
       "      <td>0.080997</td>\n",
       "      <td>0.693668</td>\n",
       "      <td>0.26801</td>\n",
       "      <td>0.999233</td>\n",
       "      <td>0.3411</td>\n",
       "      <td>0.150812</td>\n",
       "      <td>0.578659</td>\n",
       "      <td>0.850207</td>\n",
       "      <td>0.786411</td>\n",
       "    </tr>\n",
       "    <tr>\n",
       "      <th>1</th>\n",
       "      <td>0.450386</td>\n",
       "      <td>0.744289</td>\n",
       "      <td>0.691615</td>\n",
       "      <td>0.098967</td>\n",
       "      <td>0.527276</td>\n",
       "      <td>0.235859</td>\n",
       "      <td>0.241654</td>\n",
       "      <td>0.7285</td>\n",
       "      <td>0.497803</td>\n",
       "      <td>0.098574</td>\n",
       "      <td>...</td>\n",
       "      <td>0.226649</td>\n",
       "      <td>0.071645</td>\n",
       "      <td>0.627593</td>\n",
       "      <td>0.034604</td>\n",
       "      <td>0.915547</td>\n",
       "      <td>0.035466</td>\n",
       "      <td>0.375594</td>\n",
       "      <td>0.506763</td>\n",
       "      <td>0.027418</td>\n",
       "      <td>0.788574</td>\n",
       "    </tr>\n",
       "    <tr>\n",
       "      <th>2</th>\n",
       "      <td>0.022254</td>\n",
       "      <td>0.411682</td>\n",
       "      <td>0.441539</td>\n",
       "      <td>0.001139</td>\n",
       "      <td>0.194633</td>\n",
       "      <td>0.239934</td>\n",
       "      <td>0.402568</td>\n",
       "      <td>0.640194</td>\n",
       "      <td>0.165914</td>\n",
       "      <td>0.79982</td>\n",
       "      <td>...</td>\n",
       "      <td>0.120208</td>\n",
       "      <td>0.717562</td>\n",
       "      <td>0.483342</td>\n",
       "      <td>0.455931</td>\n",
       "      <td>0.931705</td>\n",
       "      <td>0.932812</td>\n",
       "      <td>0.181497</td>\n",
       "      <td>0.814301</td>\n",
       "      <td>0.326185</td>\n",
       "      <td>0.711164</td>\n",
       "    </tr>\n",
       "    <tr>\n",
       "      <th>3</th>\n",
       "      <td>0.163178</td>\n",
       "      <td>0.602689</td>\n",
       "      <td>0.797178</td>\n",
       "      <td>0.229372</td>\n",
       "      <td>0.684752</td>\n",
       "      <td>0.90442</td>\n",
       "      <td>0.426056</td>\n",
       "      <td>0.894698</td>\n",
       "      <td>0.572165</td>\n",
       "      <td>0.70853</td>\n",
       "      <td>...</td>\n",
       "      <td>0.447085</td>\n",
       "      <td>0.534723</td>\n",
       "      <td>0.59879</td>\n",
       "      <td>0.787075</td>\n",
       "      <td>0.172299</td>\n",
       "      <td>0.847581</td>\n",
       "      <td>0.574786</td>\n",
       "      <td>0.991126</td>\n",
       "      <td>0.957844</td>\n",
       "      <td>0.088737</td>\n",
       "    </tr>\n",
       "    <tr>\n",
       "      <th>4</th>\n",
       "      <td>0.355039</td>\n",
       "      <td>0.829681</td>\n",
       "      <td>0.3933</td>\n",
       "      <td>0.938062</td>\n",
       "      <td>0.865243</td>\n",
       "      <td>0.645928</td>\n",
       "      <td>0.027429</td>\n",
       "      <td>0.100245</td>\n",
       "      <td>0.692114</td>\n",
       "      <td>0.712981</td>\n",
       "      <td>...</td>\n",
       "      <td>0.489037</td>\n",
       "      <td>0.854181</td>\n",
       "      <td>0.203705</td>\n",
       "      <td>0.797674</td>\n",
       "      <td>0.789855</td>\n",
       "      <td>0.473691</td>\n",
       "      <td>0.968839</td>\n",
       "      <td>0.990056</td>\n",
       "      <td>0.197288</td>\n",
       "      <td>0.028369</td>\n",
       "    </tr>\n",
       "  </tbody>\n",
       "</table>\n",
       "<p>5 rows × 334 columns</p>\n",
       "</div>"
      ],
      "text/plain": [
       "        0         1         2         3         4         5         6    \\\n",
       "0       0.3  0.836433  0.285059  0.221557  0.882057  0.325322  0.990625   \n",
       "1  0.450386  0.744289  0.691615  0.098967  0.527276  0.235859  0.241654   \n",
       "2  0.022254  0.411682  0.441539  0.001139  0.194633  0.239934  0.402568   \n",
       "3  0.163178  0.602689  0.797178  0.229372  0.684752   0.90442  0.426056   \n",
       "4  0.355039  0.829681    0.3933  0.938062  0.865243  0.645928  0.027429   \n",
       "\n",
       "        7         8         9    ...       324       325       326       327  \\\n",
       "0  0.188223  0.886052  0.487581  ...  0.794928  0.080997  0.693668   0.26801   \n",
       "1    0.7285  0.497803  0.098574  ...  0.226649  0.071645  0.627593  0.034604   \n",
       "2  0.640194  0.165914   0.79982  ...  0.120208  0.717562  0.483342  0.455931   \n",
       "3  0.894698  0.572165   0.70853  ...  0.447085  0.534723   0.59879  0.787075   \n",
       "4  0.100245  0.692114  0.712981  ...  0.489037  0.854181  0.203705  0.797674   \n",
       "\n",
       "        328       329       330       331       332       333  \n",
       "0  0.999233    0.3411  0.150812  0.578659  0.850207  0.786411  \n",
       "1  0.915547  0.035466  0.375594  0.506763  0.027418  0.788574  \n",
       "2  0.931705  0.932812  0.181497  0.814301  0.326185  0.711164  \n",
       "3  0.172299  0.847581  0.574786  0.991126  0.957844  0.088737  \n",
       "4  0.789855  0.473691  0.968839  0.990056  0.197288  0.028369  \n",
       "\n",
       "[5 rows x 334 columns]"
      ]
     },
     "execution_count": 24,
     "metadata": {},
     "output_type": "execute_result"
    }
   ],
   "source": [
    "newdf.T"
   ]
  },
  {
   "cell_type": "code",
   "execution_count": 25,
   "id": "4c2f6186",
   "metadata": {},
   "outputs": [
    {
     "data": {
      "text/html": [
       "<div>\n",
       "<style scoped>\n",
       "    .dataframe tbody tr th:only-of-type {\n",
       "        vertical-align: middle;\n",
       "    }\n",
       "\n",
       "    .dataframe tbody tr th {\n",
       "        vertical-align: top;\n",
       "    }\n",
       "\n",
       "    .dataframe thead th {\n",
       "        text-align: right;\n",
       "    }\n",
       "</style>\n",
       "<table border=\"1\" class=\"dataframe\">\n",
       "  <thead>\n",
       "    <tr style=\"text-align: right;\">\n",
       "      <th></th>\n",
       "      <th>0</th>\n",
       "      <th>1</th>\n",
       "      <th>2</th>\n",
       "      <th>3</th>\n",
       "      <th>4</th>\n",
       "    </tr>\n",
       "  </thead>\n",
       "  <tbody>\n",
       "    <tr>\n",
       "      <th>333</th>\n",
       "      <td>0.786411</td>\n",
       "      <td>0.788574</td>\n",
       "      <td>0.711164</td>\n",
       "      <td>0.088737</td>\n",
       "      <td>0.028369</td>\n",
       "    </tr>\n",
       "    <tr>\n",
       "      <th>332</th>\n",
       "      <td>0.850207</td>\n",
       "      <td>0.027418</td>\n",
       "      <td>0.326185</td>\n",
       "      <td>0.957844</td>\n",
       "      <td>0.197288</td>\n",
       "    </tr>\n",
       "    <tr>\n",
       "      <th>331</th>\n",
       "      <td>0.578659</td>\n",
       "      <td>0.506763</td>\n",
       "      <td>0.814301</td>\n",
       "      <td>0.991126</td>\n",
       "      <td>0.990056</td>\n",
       "    </tr>\n",
       "    <tr>\n",
       "      <th>330</th>\n",
       "      <td>0.150812</td>\n",
       "      <td>0.375594</td>\n",
       "      <td>0.181497</td>\n",
       "      <td>0.574786</td>\n",
       "      <td>0.968839</td>\n",
       "    </tr>\n",
       "    <tr>\n",
       "      <th>329</th>\n",
       "      <td>0.3411</td>\n",
       "      <td>0.035466</td>\n",
       "      <td>0.932812</td>\n",
       "      <td>0.847581</td>\n",
       "      <td>0.473691</td>\n",
       "    </tr>\n",
       "  </tbody>\n",
       "</table>\n",
       "</div>"
      ],
      "text/plain": [
       "            0         1         2         3         4\n",
       "333  0.786411  0.788574  0.711164  0.088737  0.028369\n",
       "332  0.850207  0.027418  0.326185  0.957844  0.197288\n",
       "331  0.578659  0.506763  0.814301  0.991126  0.990056\n",
       "330  0.150812  0.375594  0.181497  0.574786  0.968839\n",
       "329    0.3411  0.035466  0.932812  0.847581  0.473691"
      ]
     },
     "execution_count": 25,
     "metadata": {},
     "output_type": "execute_result"
    }
   ],
   "source": [
    "newdf.sort_index(axis=0, ascending=False).head()"
   ]
  },
  {
   "cell_type": "code",
   "execution_count": 26,
   "id": "f4bc35ac",
   "metadata": {},
   "outputs": [
    {
     "data": {
      "text/plain": [
       "pandas.core.series.Series"
      ]
     },
     "execution_count": 26,
     "metadata": {},
     "output_type": "execute_result"
    }
   ],
   "source": [
    "type(newdf[0])"
   ]
  },
  {
   "cell_type": "code",
   "execution_count": 27,
   "id": "a179d43f",
   "metadata": {},
   "outputs": [],
   "source": [
    "newdf2=newdf"
   ]
  },
  {
   "cell_type": "code",
   "execution_count": 28,
   "id": "cf314420",
   "metadata": {},
   "outputs": [],
   "source": [
    "newdf2[0][0]=97835"
   ]
  },
  {
   "cell_type": "code",
   "execution_count": 29,
   "id": "b8a32c20",
   "metadata": {},
   "outputs": [
    {
     "data": {
      "text/html": [
       "<div>\n",
       "<style scoped>\n",
       "    .dataframe tbody tr th:only-of-type {\n",
       "        vertical-align: middle;\n",
       "    }\n",
       "\n",
       "    .dataframe tbody tr th {\n",
       "        vertical-align: top;\n",
       "    }\n",
       "\n",
       "    .dataframe thead th {\n",
       "        text-align: right;\n",
       "    }\n",
       "</style>\n",
       "<table border=\"1\" class=\"dataframe\">\n",
       "  <thead>\n",
       "    <tr style=\"text-align: right;\">\n",
       "      <th></th>\n",
       "      <th>0</th>\n",
       "      <th>1</th>\n",
       "      <th>2</th>\n",
       "      <th>3</th>\n",
       "      <th>4</th>\n",
       "    </tr>\n",
       "  </thead>\n",
       "  <tbody>\n",
       "    <tr>\n",
       "      <th>0</th>\n",
       "      <td>97835</td>\n",
       "      <td>0.450386</td>\n",
       "      <td>0.022254</td>\n",
       "      <td>0.163178</td>\n",
       "      <td>0.355039</td>\n",
       "    </tr>\n",
       "    <tr>\n",
       "      <th>1</th>\n",
       "      <td>0.836433</td>\n",
       "      <td>0.744289</td>\n",
       "      <td>0.411682</td>\n",
       "      <td>0.602689</td>\n",
       "      <td>0.829681</td>\n",
       "    </tr>\n",
       "    <tr>\n",
       "      <th>2</th>\n",
       "      <td>0.285059</td>\n",
       "      <td>0.691615</td>\n",
       "      <td>0.441539</td>\n",
       "      <td>0.797178</td>\n",
       "      <td>0.393300</td>\n",
       "    </tr>\n",
       "    <tr>\n",
       "      <th>3</th>\n",
       "      <td>0.221557</td>\n",
       "      <td>0.098967</td>\n",
       "      <td>0.001139</td>\n",
       "      <td>0.229372</td>\n",
       "      <td>0.938062</td>\n",
       "    </tr>\n",
       "    <tr>\n",
       "      <th>4</th>\n",
       "      <td>0.882057</td>\n",
       "      <td>0.527276</td>\n",
       "      <td>0.194633</td>\n",
       "      <td>0.684752</td>\n",
       "      <td>0.865243</td>\n",
       "    </tr>\n",
       "    <tr>\n",
       "      <th>...</th>\n",
       "      <td>...</td>\n",
       "      <td>...</td>\n",
       "      <td>...</td>\n",
       "      <td>...</td>\n",
       "      <td>...</td>\n",
       "    </tr>\n",
       "    <tr>\n",
       "      <th>329</th>\n",
       "      <td>0.3411</td>\n",
       "      <td>0.035466</td>\n",
       "      <td>0.932812</td>\n",
       "      <td>0.847581</td>\n",
       "      <td>0.473691</td>\n",
       "    </tr>\n",
       "    <tr>\n",
       "      <th>330</th>\n",
       "      <td>0.150812</td>\n",
       "      <td>0.375594</td>\n",
       "      <td>0.181497</td>\n",
       "      <td>0.574786</td>\n",
       "      <td>0.968839</td>\n",
       "    </tr>\n",
       "    <tr>\n",
       "      <th>331</th>\n",
       "      <td>0.578659</td>\n",
       "      <td>0.506763</td>\n",
       "      <td>0.814301</td>\n",
       "      <td>0.991126</td>\n",
       "      <td>0.990056</td>\n",
       "    </tr>\n",
       "    <tr>\n",
       "      <th>332</th>\n",
       "      <td>0.850207</td>\n",
       "      <td>0.027418</td>\n",
       "      <td>0.326185</td>\n",
       "      <td>0.957844</td>\n",
       "      <td>0.197288</td>\n",
       "    </tr>\n",
       "    <tr>\n",
       "      <th>333</th>\n",
       "      <td>0.786411</td>\n",
       "      <td>0.788574</td>\n",
       "      <td>0.711164</td>\n",
       "      <td>0.088737</td>\n",
       "      <td>0.028369</td>\n",
       "    </tr>\n",
       "  </tbody>\n",
       "</table>\n",
       "<p>334 rows × 5 columns</p>\n",
       "</div>"
      ],
      "text/plain": [
       "            0         1         2         3         4\n",
       "0       97835  0.450386  0.022254  0.163178  0.355039\n",
       "1    0.836433  0.744289  0.411682  0.602689  0.829681\n",
       "2    0.285059  0.691615  0.441539  0.797178  0.393300\n",
       "3    0.221557  0.098967  0.001139  0.229372  0.938062\n",
       "4    0.882057  0.527276  0.194633  0.684752  0.865243\n",
       "..        ...       ...       ...       ...       ...\n",
       "329    0.3411  0.035466  0.932812  0.847581  0.473691\n",
       "330  0.150812  0.375594  0.181497  0.574786  0.968839\n",
       "331  0.578659  0.506763  0.814301  0.991126  0.990056\n",
       "332  0.850207  0.027418  0.326185  0.957844  0.197288\n",
       "333  0.786411  0.788574  0.711164  0.088737  0.028369\n",
       "\n",
       "[334 rows x 5 columns]"
      ]
     },
     "execution_count": 29,
     "metadata": {},
     "output_type": "execute_result"
    }
   ],
   "source": [
    "newdf"
   ]
  },
  {
   "cell_type": "code",
   "execution_count": 30,
   "id": "a457ed4c",
   "metadata": {},
   "outputs": [],
   "source": [
    "newdf2=newdf.copy"
   ]
  },
  {
   "cell_type": "code",
   "execution_count": 31,
   "id": "ffd7a020",
   "metadata": {},
   "outputs": [
    {
     "data": {
      "text/html": [
       "<div>\n",
       "<style scoped>\n",
       "    .dataframe tbody tr th:only-of-type {\n",
       "        vertical-align: middle;\n",
       "    }\n",
       "\n",
       "    .dataframe tbody tr th {\n",
       "        vertical-align: top;\n",
       "    }\n",
       "\n",
       "    .dataframe thead th {\n",
       "        text-align: right;\n",
       "    }\n",
       "</style>\n",
       "<table border=\"1\" class=\"dataframe\">\n",
       "  <thead>\n",
       "    <tr style=\"text-align: right;\">\n",
       "      <th></th>\n",
       "      <th>2</th>\n",
       "      <th>4</th>\n",
       "    </tr>\n",
       "  </thead>\n",
       "  <tbody>\n",
       "    <tr>\n",
       "      <th>1</th>\n",
       "      <td>0.411682</td>\n",
       "      <td>0.829681</td>\n",
       "    </tr>\n",
       "    <tr>\n",
       "      <th>2</th>\n",
       "      <td>0.441539</td>\n",
       "      <td>0.393300</td>\n",
       "    </tr>\n",
       "  </tbody>\n",
       "</table>\n",
       "</div>"
      ],
      "text/plain": [
       "          2         4\n",
       "1  0.411682  0.829681\n",
       "2  0.441539  0.393300"
      ]
     },
     "execution_count": 31,
     "metadata": {},
     "output_type": "execute_result"
    }
   ],
   "source": [
    "newdf.loc[[1,2],[2,4]]"
   ]
  },
  {
   "cell_type": "code",
   "execution_count": 32,
   "id": "1636ad3b",
   "metadata": {},
   "outputs": [
    {
     "data": {
      "text/html": [
       "<div>\n",
       "<style scoped>\n",
       "    .dataframe tbody tr th:only-of-type {\n",
       "        vertical-align: middle;\n",
       "    }\n",
       "\n",
       "    .dataframe tbody tr th {\n",
       "        vertical-align: top;\n",
       "    }\n",
       "\n",
       "    .dataframe thead th {\n",
       "        text-align: right;\n",
       "    }\n",
       "</style>\n",
       "<table border=\"1\" class=\"dataframe\">\n",
       "  <thead>\n",
       "    <tr style=\"text-align: right;\">\n",
       "      <th></th>\n",
       "      <th>0</th>\n",
       "      <th>1</th>\n",
       "      <th>2</th>\n",
       "      <th>3</th>\n",
       "      <th>4</th>\n",
       "    </tr>\n",
       "  </thead>\n",
       "  <tbody>\n",
       "    <tr>\n",
       "      <th>1</th>\n",
       "      <td>0.836433</td>\n",
       "      <td>0.744289</td>\n",
       "      <td>0.411682</td>\n",
       "      <td>0.602689</td>\n",
       "      <td>0.829681</td>\n",
       "    </tr>\n",
       "    <tr>\n",
       "      <th>2</th>\n",
       "      <td>0.285059</td>\n",
       "      <td>0.691615</td>\n",
       "      <td>0.441539</td>\n",
       "      <td>0.797178</td>\n",
       "      <td>0.393300</td>\n",
       "    </tr>\n",
       "  </tbody>\n",
       "</table>\n",
       "</div>"
      ],
      "text/plain": [
       "          0         1         2         3         4\n",
       "1  0.836433  0.744289  0.411682  0.602689  0.829681\n",
       "2  0.285059  0.691615  0.441539  0.797178  0.393300"
      ]
     },
     "execution_count": 32,
     "metadata": {},
     "output_type": "execute_result"
    }
   ],
   "source": [
    "newdf.loc[[1,2],:]"
   ]
  },
  {
   "cell_type": "code",
   "execution_count": 33,
   "id": "5ba10699",
   "metadata": {},
   "outputs": [
    {
     "data": {
      "text/html": [
       "<div>\n",
       "<style scoped>\n",
       "    .dataframe tbody tr th:only-of-type {\n",
       "        vertical-align: middle;\n",
       "    }\n",
       "\n",
       "    .dataframe tbody tr th {\n",
       "        vertical-align: top;\n",
       "    }\n",
       "\n",
       "    .dataframe thead th {\n",
       "        text-align: right;\n",
       "    }\n",
       "</style>\n",
       "<table border=\"1\" class=\"dataframe\">\n",
       "  <thead>\n",
       "    <tr style=\"text-align: right;\">\n",
       "      <th></th>\n",
       "      <th>2</th>\n",
       "      <th>4</th>\n",
       "    </tr>\n",
       "  </thead>\n",
       "  <tbody>\n",
       "    <tr>\n",
       "      <th>0</th>\n",
       "      <td>0.022254</td>\n",
       "      <td>0.355039</td>\n",
       "    </tr>\n",
       "    <tr>\n",
       "      <th>1</th>\n",
       "      <td>0.411682</td>\n",
       "      <td>0.829681</td>\n",
       "    </tr>\n",
       "    <tr>\n",
       "      <th>2</th>\n",
       "      <td>0.441539</td>\n",
       "      <td>0.393300</td>\n",
       "    </tr>\n",
       "    <tr>\n",
       "      <th>3</th>\n",
       "      <td>0.001139</td>\n",
       "      <td>0.938062</td>\n",
       "    </tr>\n",
       "    <tr>\n",
       "      <th>4</th>\n",
       "      <td>0.194633</td>\n",
       "      <td>0.865243</td>\n",
       "    </tr>\n",
       "    <tr>\n",
       "      <th>...</th>\n",
       "      <td>...</td>\n",
       "      <td>...</td>\n",
       "    </tr>\n",
       "    <tr>\n",
       "      <th>329</th>\n",
       "      <td>0.932812</td>\n",
       "      <td>0.473691</td>\n",
       "    </tr>\n",
       "    <tr>\n",
       "      <th>330</th>\n",
       "      <td>0.181497</td>\n",
       "      <td>0.968839</td>\n",
       "    </tr>\n",
       "    <tr>\n",
       "      <th>331</th>\n",
       "      <td>0.814301</td>\n",
       "      <td>0.990056</td>\n",
       "    </tr>\n",
       "    <tr>\n",
       "      <th>332</th>\n",
       "      <td>0.326185</td>\n",
       "      <td>0.197288</td>\n",
       "    </tr>\n",
       "    <tr>\n",
       "      <th>333</th>\n",
       "      <td>0.711164</td>\n",
       "      <td>0.028369</td>\n",
       "    </tr>\n",
       "  </tbody>\n",
       "</table>\n",
       "<p>334 rows × 2 columns</p>\n",
       "</div>"
      ],
      "text/plain": [
       "            2         4\n",
       "0    0.022254  0.355039\n",
       "1    0.411682  0.829681\n",
       "2    0.441539  0.393300\n",
       "3    0.001139  0.938062\n",
       "4    0.194633  0.865243\n",
       "..        ...       ...\n",
       "329  0.932812  0.473691\n",
       "330  0.181497  0.968839\n",
       "331  0.814301  0.990056\n",
       "332  0.326185  0.197288\n",
       "333  0.711164  0.028369\n",
       "\n",
       "[334 rows x 2 columns]"
      ]
     },
     "execution_count": 33,
     "metadata": {},
     "output_type": "execute_result"
    }
   ],
   "source": [
    "newdf.loc[:,[2,4]]"
   ]
  },
  {
   "cell_type": "code",
   "execution_count": 34,
   "id": "f72514e8",
   "metadata": {},
   "outputs": [
    {
     "data": {
      "text/html": [
       "<div>\n",
       "<style scoped>\n",
       "    .dataframe tbody tr th:only-of-type {\n",
       "        vertical-align: middle;\n",
       "    }\n",
       "\n",
       "    .dataframe tbody tr th {\n",
       "        vertical-align: top;\n",
       "    }\n",
       "\n",
       "    .dataframe thead th {\n",
       "        text-align: right;\n",
       "    }\n",
       "</style>\n",
       "<table border=\"1\" class=\"dataframe\">\n",
       "  <thead>\n",
       "    <tr style=\"text-align: right;\">\n",
       "      <th></th>\n",
       "      <th>0</th>\n",
       "      <th>1</th>\n",
       "      <th>2</th>\n",
       "      <th>3</th>\n",
       "      <th>4</th>\n",
       "    </tr>\n",
       "  </thead>\n",
       "  <tbody>\n",
       "    <tr>\n",
       "      <th>2</th>\n",
       "      <td>0.285059</td>\n",
       "      <td>0.691615</td>\n",
       "      <td>0.441539</td>\n",
       "      <td>0.797178</td>\n",
       "      <td>0.393300</td>\n",
       "    </tr>\n",
       "    <tr>\n",
       "      <th>3</th>\n",
       "      <td>0.221557</td>\n",
       "      <td>0.098967</td>\n",
       "      <td>0.001139</td>\n",
       "      <td>0.229372</td>\n",
       "      <td>0.938062</td>\n",
       "    </tr>\n",
       "    <tr>\n",
       "      <th>7</th>\n",
       "      <td>0.188223</td>\n",
       "      <td>0.728500</td>\n",
       "      <td>0.640194</td>\n",
       "      <td>0.894698</td>\n",
       "      <td>0.100245</td>\n",
       "    </tr>\n",
       "    <tr>\n",
       "      <th>12</th>\n",
       "      <td>0.232557</td>\n",
       "      <td>0.127372</td>\n",
       "      <td>0.423760</td>\n",
       "      <td>0.213341</td>\n",
       "      <td>0.963750</td>\n",
       "    </tr>\n",
       "    <tr>\n",
       "      <th>16</th>\n",
       "      <td>0.204432</td>\n",
       "      <td>0.017054</td>\n",
       "      <td>0.176312</td>\n",
       "      <td>0.500843</td>\n",
       "      <td>0.243248</td>\n",
       "    </tr>\n",
       "    <tr>\n",
       "      <th>...</th>\n",
       "      <td>...</td>\n",
       "      <td>...</td>\n",
       "      <td>...</td>\n",
       "      <td>...</td>\n",
       "      <td>...</td>\n",
       "    </tr>\n",
       "    <tr>\n",
       "      <th>308</th>\n",
       "      <td>0.117481</td>\n",
       "      <td>0.595421</td>\n",
       "      <td>0.384060</td>\n",
       "      <td>0.292637</td>\n",
       "      <td>0.630269</td>\n",
       "    </tr>\n",
       "    <tr>\n",
       "      <th>312</th>\n",
       "      <td>0.292627</td>\n",
       "      <td>0.586786</td>\n",
       "      <td>0.150867</td>\n",
       "      <td>0.369159</td>\n",
       "      <td>0.728102</td>\n",
       "    </tr>\n",
       "    <tr>\n",
       "      <th>325</th>\n",
       "      <td>0.080997</td>\n",
       "      <td>0.071645</td>\n",
       "      <td>0.717562</td>\n",
       "      <td>0.534723</td>\n",
       "      <td>0.854181</td>\n",
       "    </tr>\n",
       "    <tr>\n",
       "      <th>327</th>\n",
       "      <td>0.26801</td>\n",
       "      <td>0.034604</td>\n",
       "      <td>0.455931</td>\n",
       "      <td>0.787075</td>\n",
       "      <td>0.797674</td>\n",
       "    </tr>\n",
       "    <tr>\n",
       "      <th>330</th>\n",
       "      <td>0.150812</td>\n",
       "      <td>0.375594</td>\n",
       "      <td>0.181497</td>\n",
       "      <td>0.574786</td>\n",
       "      <td>0.968839</td>\n",
       "    </tr>\n",
       "  </tbody>\n",
       "</table>\n",
       "<p>87 rows × 5 columns</p>\n",
       "</div>"
      ],
      "text/plain": [
       "            0         1         2         3         4\n",
       "2    0.285059  0.691615  0.441539  0.797178  0.393300\n",
       "3    0.221557  0.098967  0.001139  0.229372  0.938062\n",
       "7    0.188223  0.728500  0.640194  0.894698  0.100245\n",
       "12   0.232557  0.127372  0.423760  0.213341  0.963750\n",
       "16   0.204432  0.017054  0.176312  0.500843  0.243248\n",
       "..        ...       ...       ...       ...       ...\n",
       "308  0.117481  0.595421  0.384060  0.292637  0.630269\n",
       "312  0.292627  0.586786  0.150867  0.369159  0.728102\n",
       "325  0.080997  0.071645  0.717562  0.534723  0.854181\n",
       "327   0.26801  0.034604  0.455931  0.787075  0.797674\n",
       "330  0.150812  0.375594  0.181497  0.574786  0.968839\n",
       "\n",
       "[87 rows x 5 columns]"
      ]
     },
     "execution_count": 34,
     "metadata": {},
     "output_type": "execute_result"
    }
   ],
   "source": [
    "newdf.loc[newdf[0]<0.3]"
   ]
  },
  {
   "cell_type": "code",
   "execution_count": 35,
   "id": "6dca8a60",
   "metadata": {},
   "outputs": [
    {
     "data": {
      "text/html": [
       "<div>\n",
       "<style scoped>\n",
       "    .dataframe tbody tr th:only-of-type {\n",
       "        vertical-align: middle;\n",
       "    }\n",
       "\n",
       "    .dataframe tbody tr th {\n",
       "        vertical-align: top;\n",
       "    }\n",
       "\n",
       "    .dataframe thead th {\n",
       "        text-align: right;\n",
       "    }\n",
       "</style>\n",
       "<table border=\"1\" class=\"dataframe\">\n",
       "  <thead>\n",
       "    <tr style=\"text-align: right;\">\n",
       "      <th></th>\n",
       "      <th>0</th>\n",
       "      <th>1</th>\n",
       "      <th>2</th>\n",
       "      <th>3</th>\n",
       "      <th>4</th>\n",
       "    </tr>\n",
       "  </thead>\n",
       "  <tbody>\n",
       "    <tr>\n",
       "      <th>2</th>\n",
       "      <td>0.285059</td>\n",
       "      <td>0.691615</td>\n",
       "      <td>0.441539</td>\n",
       "      <td>0.797178</td>\n",
       "      <td>0.393300</td>\n",
       "    </tr>\n",
       "    <tr>\n",
       "      <th>3</th>\n",
       "      <td>0.221557</td>\n",
       "      <td>0.098967</td>\n",
       "      <td>0.001139</td>\n",
       "      <td>0.229372</td>\n",
       "      <td>0.938062</td>\n",
       "    </tr>\n",
       "    <tr>\n",
       "      <th>7</th>\n",
       "      <td>0.188223</td>\n",
       "      <td>0.728500</td>\n",
       "      <td>0.640194</td>\n",
       "      <td>0.894698</td>\n",
       "      <td>0.100245</td>\n",
       "    </tr>\n",
       "    <tr>\n",
       "      <th>12</th>\n",
       "      <td>0.232557</td>\n",
       "      <td>0.127372</td>\n",
       "      <td>0.423760</td>\n",
       "      <td>0.213341</td>\n",
       "      <td>0.963750</td>\n",
       "    </tr>\n",
       "    <tr>\n",
       "      <th>16</th>\n",
       "      <td>0.204432</td>\n",
       "      <td>0.017054</td>\n",
       "      <td>0.176312</td>\n",
       "      <td>0.500843</td>\n",
       "      <td>0.243248</td>\n",
       "    </tr>\n",
       "    <tr>\n",
       "      <th>...</th>\n",
       "      <td>...</td>\n",
       "      <td>...</td>\n",
       "      <td>...</td>\n",
       "      <td>...</td>\n",
       "      <td>...</td>\n",
       "    </tr>\n",
       "    <tr>\n",
       "      <th>308</th>\n",
       "      <td>0.117481</td>\n",
       "      <td>0.595421</td>\n",
       "      <td>0.384060</td>\n",
       "      <td>0.292637</td>\n",
       "      <td>0.630269</td>\n",
       "    </tr>\n",
       "    <tr>\n",
       "      <th>312</th>\n",
       "      <td>0.292627</td>\n",
       "      <td>0.586786</td>\n",
       "      <td>0.150867</td>\n",
       "      <td>0.369159</td>\n",
       "      <td>0.728102</td>\n",
       "    </tr>\n",
       "    <tr>\n",
       "      <th>325</th>\n",
       "      <td>0.080997</td>\n",
       "      <td>0.071645</td>\n",
       "      <td>0.717562</td>\n",
       "      <td>0.534723</td>\n",
       "      <td>0.854181</td>\n",
       "    </tr>\n",
       "    <tr>\n",
       "      <th>327</th>\n",
       "      <td>0.26801</td>\n",
       "      <td>0.034604</td>\n",
       "      <td>0.455931</td>\n",
       "      <td>0.787075</td>\n",
       "      <td>0.797674</td>\n",
       "    </tr>\n",
       "    <tr>\n",
       "      <th>330</th>\n",
       "      <td>0.150812</td>\n",
       "      <td>0.375594</td>\n",
       "      <td>0.181497</td>\n",
       "      <td>0.574786</td>\n",
       "      <td>0.968839</td>\n",
       "    </tr>\n",
       "  </tbody>\n",
       "</table>\n",
       "<p>77 rows × 5 columns</p>\n",
       "</div>"
      ],
      "text/plain": [
       "            0         1         2         3         4\n",
       "2    0.285059  0.691615  0.441539  0.797178  0.393300\n",
       "3    0.221557  0.098967  0.001139  0.229372  0.938062\n",
       "7    0.188223  0.728500  0.640194  0.894698  0.100245\n",
       "12   0.232557  0.127372  0.423760  0.213341  0.963750\n",
       "16   0.204432  0.017054  0.176312  0.500843  0.243248\n",
       "..        ...       ...       ...       ...       ...\n",
       "308  0.117481  0.595421  0.384060  0.292637  0.630269\n",
       "312  0.292627  0.586786  0.150867  0.369159  0.728102\n",
       "325  0.080997  0.071645  0.717562  0.534723  0.854181\n",
       "327   0.26801  0.034604  0.455931  0.787075  0.797674\n",
       "330  0.150812  0.375594  0.181497  0.574786  0.968839\n",
       "\n",
       "[77 rows x 5 columns]"
      ]
     },
     "execution_count": 35,
     "metadata": {},
     "output_type": "execute_result"
    }
   ],
   "source": [
    "newdf.loc[(newdf[0]<0.3) & (newdf[3]>0.1)]"
   ]
  },
  {
   "cell_type": "code",
   "execution_count": 36,
   "id": "41200606",
   "metadata": {},
   "outputs": [
    {
     "data": {
      "text/html": [
       "<div>\n",
       "<style scoped>\n",
       "    .dataframe tbody tr th:only-of-type {\n",
       "        vertical-align: middle;\n",
       "    }\n",
       "\n",
       "    .dataframe tbody tr th {\n",
       "        vertical-align: top;\n",
       "    }\n",
       "\n",
       "    .dataframe thead th {\n",
       "        text-align: right;\n",
       "    }\n",
       "</style>\n",
       "<table border=\"1\" class=\"dataframe\">\n",
       "  <thead>\n",
       "    <tr style=\"text-align: right;\">\n",
       "      <th></th>\n",
       "      <th>0</th>\n",
       "      <th>1</th>\n",
       "      <th>2</th>\n",
       "      <th>3</th>\n",
       "      <th>4</th>\n",
       "    </tr>\n",
       "  </thead>\n",
       "  <tbody>\n",
       "    <tr>\n",
       "      <th>0</th>\n",
       "      <td>97835</td>\n",
       "      <td>0.450386</td>\n",
       "      <td>0.022254</td>\n",
       "      <td>0.163178</td>\n",
       "      <td>0.355039</td>\n",
       "    </tr>\n",
       "    <tr>\n",
       "      <th>1</th>\n",
       "      <td>0.836433</td>\n",
       "      <td>0.744289</td>\n",
       "      <td>0.411682</td>\n",
       "      <td>0.602689</td>\n",
       "      <td>0.829681</td>\n",
       "    </tr>\n",
       "    <tr>\n",
       "      <th>2</th>\n",
       "      <td>0.285059</td>\n",
       "      <td>0.691615</td>\n",
       "      <td>0.441539</td>\n",
       "      <td>0.797178</td>\n",
       "      <td>0.393300</td>\n",
       "    </tr>\n",
       "    <tr>\n",
       "      <th>3</th>\n",
       "      <td>0.221557</td>\n",
       "      <td>0.098967</td>\n",
       "      <td>0.001139</td>\n",
       "      <td>0.229372</td>\n",
       "      <td>0.938062</td>\n",
       "    </tr>\n",
       "    <tr>\n",
       "      <th>4</th>\n",
       "      <td>0.882057</td>\n",
       "      <td>0.527276</td>\n",
       "      <td>0.194633</td>\n",
       "      <td>0.684752</td>\n",
       "      <td>0.865243</td>\n",
       "    </tr>\n",
       "  </tbody>\n",
       "</table>\n",
       "</div>"
      ],
      "text/plain": [
       "          0         1         2         3         4\n",
       "0     97835  0.450386  0.022254  0.163178  0.355039\n",
       "1  0.836433  0.744289  0.411682  0.602689  0.829681\n",
       "2  0.285059  0.691615  0.441539  0.797178  0.393300\n",
       "3  0.221557  0.098967  0.001139  0.229372  0.938062\n",
       "4  0.882057  0.527276  0.194633  0.684752  0.865243"
      ]
     },
     "execution_count": 36,
     "metadata": {},
     "output_type": "execute_result"
    }
   ],
   "source": [
    "newdf.head()"
   ]
  },
  {
   "cell_type": "code",
   "execution_count": 37,
   "id": "112513f8",
   "metadata": {},
   "outputs": [
    {
     "data": {
      "text/plain": [
       "0.3550394575192052"
      ]
     },
     "execution_count": 37,
     "metadata": {},
     "output_type": "execute_result"
    }
   ],
   "source": [
    "newdf.iloc[0,4]"
   ]
  },
  {
   "cell_type": "code",
   "execution_count": 38,
   "id": "61627670",
   "metadata": {},
   "outputs": [
    {
     "data": {
      "text/html": [
       "<div>\n",
       "<style scoped>\n",
       "    .dataframe tbody tr th:only-of-type {\n",
       "        vertical-align: middle;\n",
       "    }\n",
       "\n",
       "    .dataframe tbody tr th {\n",
       "        vertical-align: top;\n",
       "    }\n",
       "\n",
       "    .dataframe thead th {\n",
       "        text-align: right;\n",
       "    }\n",
       "</style>\n",
       "<table border=\"1\" class=\"dataframe\">\n",
       "  <thead>\n",
       "    <tr style=\"text-align: right;\">\n",
       "      <th></th>\n",
       "      <th>2</th>\n",
       "      <th>4</th>\n",
       "    </tr>\n",
       "  </thead>\n",
       "  <tbody>\n",
       "    <tr>\n",
       "      <th>1</th>\n",
       "      <td>0.411682</td>\n",
       "      <td>0.829681</td>\n",
       "    </tr>\n",
       "    <tr>\n",
       "      <th>2</th>\n",
       "      <td>0.441539</td>\n",
       "      <td>0.393300</td>\n",
       "    </tr>\n",
       "  </tbody>\n",
       "</table>\n",
       "</div>"
      ],
      "text/plain": [
       "          2         4\n",
       "1  0.411682  0.829681\n",
       "2  0.441539  0.393300"
      ]
     },
     "execution_count": 38,
     "metadata": {},
     "output_type": "execute_result"
    }
   ],
   "source": [
    "newdf.iloc[[1,2],[2,4]]"
   ]
  },
  {
   "cell_type": "code",
   "execution_count": 39,
   "id": "1e3a3722",
   "metadata": {},
   "outputs": [
    {
     "data": {
      "text/html": [
       "<div>\n",
       "<style scoped>\n",
       "    .dataframe tbody tr th:only-of-type {\n",
       "        vertical-align: middle;\n",
       "    }\n",
       "\n",
       "    .dataframe tbody tr th {\n",
       "        vertical-align: top;\n",
       "    }\n",
       "\n",
       "    .dataframe thead th {\n",
       "        text-align: right;\n",
       "    }\n",
       "</style>\n",
       "<table border=\"1\" class=\"dataframe\">\n",
       "  <thead>\n",
       "    <tr style=\"text-align: right;\">\n",
       "      <th></th>\n",
       "      <th>0</th>\n",
       "      <th>1</th>\n",
       "      <th>2</th>\n",
       "      <th>3</th>\n",
       "      <th>4</th>\n",
       "    </tr>\n",
       "  </thead>\n",
       "  <tbody>\n",
       "    <tr>\n",
       "      <th>0</th>\n",
       "      <td>97835</td>\n",
       "      <td>0.450386</td>\n",
       "      <td>0.022254</td>\n",
       "      <td>0.163178</td>\n",
       "      <td>0.355039</td>\n",
       "    </tr>\n",
       "    <tr>\n",
       "      <th>1</th>\n",
       "      <td>0.836433</td>\n",
       "      <td>0.744289</td>\n",
       "      <td>0.411682</td>\n",
       "      <td>0.602689</td>\n",
       "      <td>0.829681</td>\n",
       "    </tr>\n",
       "    <tr>\n",
       "      <th>2</th>\n",
       "      <td>0.285059</td>\n",
       "      <td>0.691615</td>\n",
       "      <td>0.441539</td>\n",
       "      <td>0.797178</td>\n",
       "      <td>0.393300</td>\n",
       "    </tr>\n",
       "  </tbody>\n",
       "</table>\n",
       "</div>"
      ],
      "text/plain": [
       "          0         1         2         3         4\n",
       "0     97835  0.450386  0.022254  0.163178  0.355039\n",
       "1  0.836433  0.744289  0.411682  0.602689  0.829681\n",
       "2  0.285059  0.691615  0.441539  0.797178  0.393300"
      ]
     },
     "execution_count": 39,
     "metadata": {},
     "output_type": "execute_result"
    }
   ],
   "source": [
    "newdf.head(3)"
   ]
  },
  {
   "cell_type": "code",
   "execution_count": 40,
   "id": "67402d51",
   "metadata": {},
   "outputs": [
    {
     "data": {
      "text/html": [
       "<div>\n",
       "<style scoped>\n",
       "    .dataframe tbody tr th:only-of-type {\n",
       "        vertical-align: middle;\n",
       "    }\n",
       "\n",
       "    .dataframe tbody tr th {\n",
       "        vertical-align: top;\n",
       "    }\n",
       "\n",
       "    .dataframe thead th {\n",
       "        text-align: right;\n",
       "    }\n",
       "</style>\n",
       "<table border=\"1\" class=\"dataframe\">\n",
       "  <thead>\n",
       "    <tr style=\"text-align: right;\">\n",
       "      <th></th>\n",
       "      <th>0</th>\n",
       "      <th>1</th>\n",
       "      <th>2</th>\n",
       "      <th>3</th>\n",
       "      <th>4</th>\n",
       "    </tr>\n",
       "  </thead>\n",
       "  <tbody>\n",
       "    <tr>\n",
       "      <th>0</th>\n",
       "      <td>97835</td>\n",
       "      <td>0.450386</td>\n",
       "      <td>0.022254</td>\n",
       "      <td>0.163178</td>\n",
       "      <td>0.355039</td>\n",
       "    </tr>\n",
       "    <tr>\n",
       "      <th>2</th>\n",
       "      <td>0.285059</td>\n",
       "      <td>0.691615</td>\n",
       "      <td>0.441539</td>\n",
       "      <td>0.797178</td>\n",
       "      <td>0.393300</td>\n",
       "    </tr>\n",
       "    <tr>\n",
       "      <th>3</th>\n",
       "      <td>0.221557</td>\n",
       "      <td>0.098967</td>\n",
       "      <td>0.001139</td>\n",
       "      <td>0.229372</td>\n",
       "      <td>0.938062</td>\n",
       "    </tr>\n",
       "    <tr>\n",
       "      <th>4</th>\n",
       "      <td>0.882057</td>\n",
       "      <td>0.527276</td>\n",
       "      <td>0.194633</td>\n",
       "      <td>0.684752</td>\n",
       "      <td>0.865243</td>\n",
       "    </tr>\n",
       "    <tr>\n",
       "      <th>5</th>\n",
       "      <td>0.325322</td>\n",
       "      <td>0.235859</td>\n",
       "      <td>0.239934</td>\n",
       "      <td>0.904420</td>\n",
       "      <td>0.645928</td>\n",
       "    </tr>\n",
       "    <tr>\n",
       "      <th>...</th>\n",
       "      <td>...</td>\n",
       "      <td>...</td>\n",
       "      <td>...</td>\n",
       "      <td>...</td>\n",
       "      <td>...</td>\n",
       "    </tr>\n",
       "    <tr>\n",
       "      <th>329</th>\n",
       "      <td>0.3411</td>\n",
       "      <td>0.035466</td>\n",
       "      <td>0.932812</td>\n",
       "      <td>0.847581</td>\n",
       "      <td>0.473691</td>\n",
       "    </tr>\n",
       "    <tr>\n",
       "      <th>330</th>\n",
       "      <td>0.150812</td>\n",
       "      <td>0.375594</td>\n",
       "      <td>0.181497</td>\n",
       "      <td>0.574786</td>\n",
       "      <td>0.968839</td>\n",
       "    </tr>\n",
       "    <tr>\n",
       "      <th>331</th>\n",
       "      <td>0.578659</td>\n",
       "      <td>0.506763</td>\n",
       "      <td>0.814301</td>\n",
       "      <td>0.991126</td>\n",
       "      <td>0.990056</td>\n",
       "    </tr>\n",
       "    <tr>\n",
       "      <th>332</th>\n",
       "      <td>0.850207</td>\n",
       "      <td>0.027418</td>\n",
       "      <td>0.326185</td>\n",
       "      <td>0.957844</td>\n",
       "      <td>0.197288</td>\n",
       "    </tr>\n",
       "    <tr>\n",
       "      <th>333</th>\n",
       "      <td>0.786411</td>\n",
       "      <td>0.788574</td>\n",
       "      <td>0.711164</td>\n",
       "      <td>0.088737</td>\n",
       "      <td>0.028369</td>\n",
       "    </tr>\n",
       "  </tbody>\n",
       "</table>\n",
       "<p>333 rows × 5 columns</p>\n",
       "</div>"
      ],
      "text/plain": [
       "            0         1         2         3         4\n",
       "0       97835  0.450386  0.022254  0.163178  0.355039\n",
       "2    0.285059  0.691615  0.441539  0.797178  0.393300\n",
       "3    0.221557  0.098967  0.001139  0.229372  0.938062\n",
       "4    0.882057  0.527276  0.194633  0.684752  0.865243\n",
       "5    0.325322  0.235859  0.239934  0.904420  0.645928\n",
       "..        ...       ...       ...       ...       ...\n",
       "329    0.3411  0.035466  0.932812  0.847581  0.473691\n",
       "330  0.150812  0.375594  0.181497  0.574786  0.968839\n",
       "331  0.578659  0.506763  0.814301  0.991126  0.990056\n",
       "332  0.850207  0.027418  0.326185  0.957844  0.197288\n",
       "333  0.786411  0.788574  0.711164  0.088737  0.028369\n",
       "\n",
       "[333 rows x 5 columns]"
      ]
     },
     "execution_count": 40,
     "metadata": {},
     "output_type": "execute_result"
    }
   ],
   "source": [
    "newdf.drop([1])"
   ]
  },
  {
   "cell_type": "code",
   "execution_count": 41,
   "id": "95558f5d",
   "metadata": {},
   "outputs": [
    {
     "data": {
      "text/html": [
       "<div>\n",
       "<style scoped>\n",
       "    .dataframe tbody tr th:only-of-type {\n",
       "        vertical-align: middle;\n",
       "    }\n",
       "\n",
       "    .dataframe tbody tr th {\n",
       "        vertical-align: top;\n",
       "    }\n",
       "\n",
       "    .dataframe thead th {\n",
       "        text-align: right;\n",
       "    }\n",
       "</style>\n",
       "<table border=\"1\" class=\"dataframe\">\n",
       "  <thead>\n",
       "    <tr style=\"text-align: right;\">\n",
       "      <th></th>\n",
       "      <th>0</th>\n",
       "      <th>2</th>\n",
       "      <th>4</th>\n",
       "    </tr>\n",
       "  </thead>\n",
       "  <tbody>\n",
       "    <tr>\n",
       "      <th>0</th>\n",
       "      <td>97835</td>\n",
       "      <td>0.022254</td>\n",
       "      <td>0.355039</td>\n",
       "    </tr>\n",
       "    <tr>\n",
       "      <th>1</th>\n",
       "      <td>0.836433</td>\n",
       "      <td>0.411682</td>\n",
       "      <td>0.829681</td>\n",
       "    </tr>\n",
       "    <tr>\n",
       "      <th>2</th>\n",
       "      <td>0.285059</td>\n",
       "      <td>0.441539</td>\n",
       "      <td>0.393300</td>\n",
       "    </tr>\n",
       "    <tr>\n",
       "      <th>3</th>\n",
       "      <td>0.221557</td>\n",
       "      <td>0.001139</td>\n",
       "      <td>0.938062</td>\n",
       "    </tr>\n",
       "    <tr>\n",
       "      <th>4</th>\n",
       "      <td>0.882057</td>\n",
       "      <td>0.194633</td>\n",
       "      <td>0.865243</td>\n",
       "    </tr>\n",
       "    <tr>\n",
       "      <th>...</th>\n",
       "      <td>...</td>\n",
       "      <td>...</td>\n",
       "      <td>...</td>\n",
       "    </tr>\n",
       "    <tr>\n",
       "      <th>329</th>\n",
       "      <td>0.3411</td>\n",
       "      <td>0.932812</td>\n",
       "      <td>0.473691</td>\n",
       "    </tr>\n",
       "    <tr>\n",
       "      <th>330</th>\n",
       "      <td>0.150812</td>\n",
       "      <td>0.181497</td>\n",
       "      <td>0.968839</td>\n",
       "    </tr>\n",
       "    <tr>\n",
       "      <th>331</th>\n",
       "      <td>0.578659</td>\n",
       "      <td>0.814301</td>\n",
       "      <td>0.990056</td>\n",
       "    </tr>\n",
       "    <tr>\n",
       "      <th>332</th>\n",
       "      <td>0.850207</td>\n",
       "      <td>0.326185</td>\n",
       "      <td>0.197288</td>\n",
       "    </tr>\n",
       "    <tr>\n",
       "      <th>333</th>\n",
       "      <td>0.786411</td>\n",
       "      <td>0.711164</td>\n",
       "      <td>0.028369</td>\n",
       "    </tr>\n",
       "  </tbody>\n",
       "</table>\n",
       "<p>334 rows × 3 columns</p>\n",
       "</div>"
      ],
      "text/plain": [
       "            0         2         4\n",
       "0       97835  0.022254  0.355039\n",
       "1    0.836433  0.411682  0.829681\n",
       "2    0.285059  0.441539  0.393300\n",
       "3    0.221557  0.001139  0.938062\n",
       "4    0.882057  0.194633  0.865243\n",
       "..        ...       ...       ...\n",
       "329    0.3411  0.932812  0.473691\n",
       "330  0.150812  0.181497  0.968839\n",
       "331  0.578659  0.814301  0.990056\n",
       "332  0.850207  0.326185  0.197288\n",
       "333  0.786411  0.711164  0.028369\n",
       "\n",
       "[334 rows x 3 columns]"
      ]
     },
     "execution_count": 41,
     "metadata": {},
     "output_type": "execute_result"
    }
   ],
   "source": [
    "newdf.drop([1,3],axis = 1)"
   ]
  },
  {
   "cell_type": "code",
   "execution_count": 42,
   "id": "3eded671",
   "metadata": {},
   "outputs": [
    {
     "data": {
      "text/html": [
       "<div>\n",
       "<style scoped>\n",
       "    .dataframe tbody tr th:only-of-type {\n",
       "        vertical-align: middle;\n",
       "    }\n",
       "\n",
       "    .dataframe tbody tr th {\n",
       "        vertical-align: top;\n",
       "    }\n",
       "\n",
       "    .dataframe thead th {\n",
       "        text-align: right;\n",
       "    }\n",
       "</style>\n",
       "<table border=\"1\" class=\"dataframe\">\n",
       "  <thead>\n",
       "    <tr style=\"text-align: right;\">\n",
       "      <th></th>\n",
       "      <th>name</th>\n",
       "      <th>toy</th>\n",
       "      <th>born</th>\n",
       "    </tr>\n",
       "  </thead>\n",
       "  <tbody>\n",
       "    <tr>\n",
       "      <th>0</th>\n",
       "      <td>Alfred</td>\n",
       "      <td>NaN</td>\n",
       "      <td>NaT</td>\n",
       "    </tr>\n",
       "    <tr>\n",
       "      <th>1</th>\n",
       "      <td>Batman</td>\n",
       "      <td>Batmobile</td>\n",
       "      <td>1940-04-25</td>\n",
       "    </tr>\n",
       "    <tr>\n",
       "      <th>2</th>\n",
       "      <td>Catwoman</td>\n",
       "      <td>Bullwhip</td>\n",
       "      <td>NaT</td>\n",
       "    </tr>\n",
       "  </tbody>\n",
       "</table>\n",
       "</div>"
      ],
      "text/plain": [
       "       name        toy       born\n",
       "0    Alfred        NaN        NaT\n",
       "1    Batman  Batmobile 1940-04-25\n",
       "2  Catwoman   Bullwhip        NaT"
      ]
     },
     "execution_count": 42,
     "metadata": {},
     "output_type": "execute_result"
    }
   ],
   "source": [
    "df = pd.DataFrame({\"name\": ['Alfred', 'Batman', 'Catwoman'],\n",
    "                   \"toy\": [np.nan, 'Batmobile','Bullwhip'],\n",
    "                   \"born\": [pd.NaT, pd. Timestamp (\"1940-04-25\"),pd.NaT]})\n",
    "df.head()"
   ]
  },
  {
   "cell_type": "code",
   "execution_count": 43,
   "id": "df4f5766",
   "metadata": {},
   "outputs": [
    {
     "data": {
      "text/html": [
       "<div>\n",
       "<style scoped>\n",
       "    .dataframe tbody tr th:only-of-type {\n",
       "        vertical-align: middle;\n",
       "    }\n",
       "\n",
       "    .dataframe tbody tr th {\n",
       "        vertical-align: top;\n",
       "    }\n",
       "\n",
       "    .dataframe thead th {\n",
       "        text-align: right;\n",
       "    }\n",
       "</style>\n",
       "<table border=\"1\" class=\"dataframe\">\n",
       "  <thead>\n",
       "    <tr style=\"text-align: right;\">\n",
       "      <th></th>\n",
       "      <th>name</th>\n",
       "      <th>toy</th>\n",
       "      <th>born</th>\n",
       "    </tr>\n",
       "  </thead>\n",
       "  <tbody>\n",
       "    <tr>\n",
       "      <th>0</th>\n",
       "      <td>Alfred</td>\n",
       "      <td>NaN</td>\n",
       "      <td>NaT</td>\n",
       "    </tr>\n",
       "    <tr>\n",
       "      <th>1</th>\n",
       "      <td>Batman</td>\n",
       "      <td>Batmobile</td>\n",
       "      <td>1940-04-25</td>\n",
       "    </tr>\n",
       "    <tr>\n",
       "      <th>2</th>\n",
       "      <td>Catwoman</td>\n",
       "      <td>Bullwhip</td>\n",
       "      <td>NaT</td>\n",
       "    </tr>\n",
       "  </tbody>\n",
       "</table>\n",
       "</div>"
      ],
      "text/plain": [
       "       name        toy       born\n",
       "0    Alfred        NaN        NaT\n",
       "1    Batman  Batmobile 1940-04-25\n",
       "2  Catwoman   Bullwhip        NaT"
      ]
     },
     "execution_count": 43,
     "metadata": {},
     "output_type": "execute_result"
    }
   ],
   "source": [
    "df.dropna(how = 'all')"
   ]
  },
  {
   "cell_type": "code",
   "execution_count": 44,
   "id": "eca524b9",
   "metadata": {},
   "outputs": [
    {
     "data": {
      "text/html": [
       "<div>\n",
       "<style scoped>\n",
       "    .dataframe tbody tr th:only-of-type {\n",
       "        vertical-align: middle;\n",
       "    }\n",
       "\n",
       "    .dataframe tbody tr th {\n",
       "        vertical-align: top;\n",
       "    }\n",
       "\n",
       "    .dataframe thead th {\n",
       "        text-align: right;\n",
       "    }\n",
       "</style>\n",
       "<table border=\"1\" class=\"dataframe\">\n",
       "  <thead>\n",
       "    <tr style=\"text-align: right;\">\n",
       "      <th></th>\n",
       "      <th>name</th>\n",
       "      <th>toy</th>\n",
       "      <th>born</th>\n",
       "    </tr>\n",
       "  </thead>\n",
       "  <tbody>\n",
       "    <tr>\n",
       "      <th>0</th>\n",
       "      <td>Alfred</td>\n",
       "      <td>NaN</td>\n",
       "      <td>NaT</td>\n",
       "    </tr>\n",
       "    <tr>\n",
       "      <th>1</th>\n",
       "      <td>Batman</td>\n",
       "      <td>NaN</td>\n",
       "      <td>1940-04-25</td>\n",
       "    </tr>\n",
       "    <tr>\n",
       "      <th>2</th>\n",
       "      <td>Catwoman</td>\n",
       "      <td>NaN</td>\n",
       "      <td>NaT</td>\n",
       "    </tr>\n",
       "  </tbody>\n",
       "</table>\n",
       "</div>"
      ],
      "text/plain": [
       "       name  toy       born\n",
       "0    Alfred  NaN        NaT\n",
       "1    Batman  NaN 1940-04-25\n",
       "2  Catwoman  NaN        NaT"
      ]
     },
     "execution_count": 44,
     "metadata": {},
     "output_type": "execute_result"
    }
   ],
   "source": [
    " df = pd.DataFrame({\"name\": ['Alfred', 'Batman', 'Catwoman'],\n",
    "                   \"toy\": [np.nan, np.nan, np.nan],\n",
    "                   \"born\": [pd.NaT, pd. Timestamp (\"1940-04-25\"),pd.NaT]})\n",
    "df.head()"
   ]
  },
  {
   "cell_type": "code",
   "execution_count": 45,
   "id": "52cb2f2a",
   "metadata": {},
   "outputs": [
    {
     "data": {
      "text/html": [
       "<div>\n",
       "<style scoped>\n",
       "    .dataframe tbody tr th:only-of-type {\n",
       "        vertical-align: middle;\n",
       "    }\n",
       "\n",
       "    .dataframe tbody tr th {\n",
       "        vertical-align: top;\n",
       "    }\n",
       "\n",
       "    .dataframe thead th {\n",
       "        text-align: right;\n",
       "    }\n",
       "</style>\n",
       "<table border=\"1\" class=\"dataframe\">\n",
       "  <thead>\n",
       "    <tr style=\"text-align: right;\">\n",
       "      <th></th>\n",
       "      <th>name</th>\n",
       "      <th>born</th>\n",
       "    </tr>\n",
       "  </thead>\n",
       "  <tbody>\n",
       "    <tr>\n",
       "      <th>0</th>\n",
       "      <td>Alfred</td>\n",
       "      <td>NaT</td>\n",
       "    </tr>\n",
       "    <tr>\n",
       "      <th>1</th>\n",
       "      <td>Batman</td>\n",
       "      <td>1940-04-25</td>\n",
       "    </tr>\n",
       "    <tr>\n",
       "      <th>2</th>\n",
       "      <td>Catwoman</td>\n",
       "      <td>NaT</td>\n",
       "    </tr>\n",
       "  </tbody>\n",
       "</table>\n",
       "</div>"
      ],
      "text/plain": [
       "       name       born\n",
       "0    Alfred        NaT\n",
       "1    Batman 1940-04-25\n",
       "2  Catwoman        NaT"
      ]
     },
     "execution_count": 45,
     "metadata": {},
     "output_type": "execute_result"
    }
   ],
   "source": [
    "df.dropna(how='all', axis=1)"
   ]
  },
  {
   "cell_type": "code",
   "execution_count": 46,
   "id": "8880892f",
   "metadata": {},
   "outputs": [
    {
     "data": {
      "text/html": [
       "<div>\n",
       "<style scoped>\n",
       "    .dataframe tbody tr th:only-of-type {\n",
       "        vertical-align: middle;\n",
       "    }\n",
       "\n",
       "    .dataframe tbody tr th {\n",
       "        vertical-align: top;\n",
       "    }\n",
       "\n",
       "    .dataframe thead th {\n",
       "        text-align: right;\n",
       "    }\n",
       "</style>\n",
       "<table border=\"1\" class=\"dataframe\">\n",
       "  <thead>\n",
       "    <tr style=\"text-align: right;\">\n",
       "      <th></th>\n",
       "      <th>name</th>\n",
       "      <th>toy</th>\n",
       "      <th>born</th>\n",
       "    </tr>\n",
       "  </thead>\n",
       "  <tbody>\n",
       "    <tr>\n",
       "      <th>0</th>\n",
       "      <td>Alfred</td>\n",
       "      <td>NaN</td>\n",
       "      <td>NaT</td>\n",
       "    </tr>\n",
       "    <tr>\n",
       "      <th>1</th>\n",
       "      <td>Batman</td>\n",
       "      <td>Batmobile</td>\n",
       "      <td>1940-04-25</td>\n",
       "    </tr>\n",
       "    <tr>\n",
       "      <th>2</th>\n",
       "      <td>Alfred</td>\n",
       "      <td>Bullwhip</td>\n",
       "      <td>NaT</td>\n",
       "    </tr>\n",
       "  </tbody>\n",
       "</table>\n",
       "</div>"
      ],
      "text/plain": [
       "     name        toy       born\n",
       "0  Alfred        NaN        NaT\n",
       "1  Batman  Batmobile 1940-04-25\n",
       "2  Alfred   Bullwhip        NaT"
      ]
     },
     "execution_count": 46,
     "metadata": {},
     "output_type": "execute_result"
    }
   ],
   "source": [
    "df = pd.DataFrame({\"name\": ['Alfred', 'Batman', 'Alfred'],\n",
    "                   \"toy\": [np.nan, 'Batmobile','Bullwhip'],\n",
    "                   \"born\": [pd.NaT, pd. Timestamp (\"1940-04-25\"),pd.NaT]})\n",
    "df.head()"
   ]
  },
  {
   "cell_type": "code",
   "execution_count": 47,
   "id": "09390e54",
   "metadata": {},
   "outputs": [
    {
     "data": {
      "text/html": [
       "<div>\n",
       "<style scoped>\n",
       "    .dataframe tbody tr th:only-of-type {\n",
       "        vertical-align: middle;\n",
       "    }\n",
       "\n",
       "    .dataframe tbody tr th {\n",
       "        vertical-align: top;\n",
       "    }\n",
       "\n",
       "    .dataframe thead th {\n",
       "        text-align: right;\n",
       "    }\n",
       "</style>\n",
       "<table border=\"1\" class=\"dataframe\">\n",
       "  <thead>\n",
       "    <tr style=\"text-align: right;\">\n",
       "      <th></th>\n",
       "      <th>name</th>\n",
       "      <th>toy</th>\n",
       "      <th>born</th>\n",
       "    </tr>\n",
       "  </thead>\n",
       "  <tbody>\n",
       "    <tr>\n",
       "      <th>0</th>\n",
       "      <td>Alfred</td>\n",
       "      <td>NaN</td>\n",
       "      <td>NaT</td>\n",
       "    </tr>\n",
       "    <tr>\n",
       "      <th>1</th>\n",
       "      <td>Batman</td>\n",
       "      <td>Batmobile</td>\n",
       "      <td>1940-04-25</td>\n",
       "    </tr>\n",
       "    <tr>\n",
       "      <th>2</th>\n",
       "      <td>Alfred</td>\n",
       "      <td>Bullwhip</td>\n",
       "      <td>NaT</td>\n",
       "    </tr>\n",
       "  </tbody>\n",
       "</table>\n",
       "</div>"
      ],
      "text/plain": [
       "     name        toy       born\n",
       "0  Alfred        NaN        NaT\n",
       "1  Batman  Batmobile 1940-04-25\n",
       "2  Alfred   Bullwhip        NaT"
      ]
     },
     "execution_count": 47,
     "metadata": {},
     "output_type": "execute_result"
    }
   ],
   "source": [
    "df.dropna(how='all', axis=1)"
   ]
  },
  {
   "cell_type": "code",
   "execution_count": 48,
   "id": "0be8556e",
   "metadata": {},
   "outputs": [
    {
     "data": {
      "text/html": [
       "<div>\n",
       "<style scoped>\n",
       "    .dataframe tbody tr th:only-of-type {\n",
       "        vertical-align: middle;\n",
       "    }\n",
       "\n",
       "    .dataframe tbody tr th {\n",
       "        vertical-align: top;\n",
       "    }\n",
       "\n",
       "    .dataframe thead th {\n",
       "        text-align: right;\n",
       "    }\n",
       "</style>\n",
       "<table border=\"1\" class=\"dataframe\">\n",
       "  <thead>\n",
       "    <tr style=\"text-align: right;\">\n",
       "      <th></th>\n",
       "      <th>name</th>\n",
       "      <th>toy</th>\n",
       "      <th>born</th>\n",
       "    </tr>\n",
       "  </thead>\n",
       "  <tbody>\n",
       "    <tr>\n",
       "      <th>0</th>\n",
       "      <td>Alfred</td>\n",
       "      <td>NaN</td>\n",
       "      <td>NaT</td>\n",
       "    </tr>\n",
       "    <tr>\n",
       "      <th>1</th>\n",
       "      <td>Batman</td>\n",
       "      <td>Batmobile</td>\n",
       "      <td>1940-04-25</td>\n",
       "    </tr>\n",
       "  </tbody>\n",
       "</table>\n",
       "</div>"
      ],
      "text/plain": [
       "     name        toy       born\n",
       "0  Alfred        NaN        NaT\n",
       "1  Batman  Batmobile 1940-04-25"
      ]
     },
     "execution_count": 48,
     "metadata": {},
     "output_type": "execute_result"
    }
   ],
   "source": [
    "df.drop_duplicates(subset=['name'])"
   ]
  },
  {
   "cell_type": "code",
   "execution_count": 49,
   "id": "448b71c7",
   "metadata": {},
   "outputs": [
    {
     "data": {
      "text/html": [
       "<div>\n",
       "<style scoped>\n",
       "    .dataframe tbody tr th:only-of-type {\n",
       "        vertical-align: middle;\n",
       "    }\n",
       "\n",
       "    .dataframe tbody tr th {\n",
       "        vertical-align: top;\n",
       "    }\n",
       "\n",
       "    .dataframe thead th {\n",
       "        text-align: right;\n",
       "    }\n",
       "</style>\n",
       "<table border=\"1\" class=\"dataframe\">\n",
       "  <thead>\n",
       "    <tr style=\"text-align: right;\">\n",
       "      <th></th>\n",
       "      <th>name</th>\n",
       "      <th>toy</th>\n",
       "      <th>born</th>\n",
       "    </tr>\n",
       "  </thead>\n",
       "  <tbody>\n",
       "    <tr>\n",
       "      <th>0</th>\n",
       "      <td>Alfred</td>\n",
       "      <td>NaN</td>\n",
       "      <td>NaT</td>\n",
       "    </tr>\n",
       "    <tr>\n",
       "      <th>1</th>\n",
       "      <td>Batman</td>\n",
       "      <td>Batmobile</td>\n",
       "      <td>1940-04-25</td>\n",
       "    </tr>\n",
       "  </tbody>\n",
       "</table>\n",
       "</div>"
      ],
      "text/plain": [
       "     name        toy       born\n",
       "0  Alfred        NaN        NaT\n",
       "1  Batman  Batmobile 1940-04-25"
      ]
     },
     "execution_count": 49,
     "metadata": {},
     "output_type": "execute_result"
    }
   ],
   "source": [
    "df.drop_duplicates(subset=['name'], keep='first')"
   ]
  },
  {
   "cell_type": "code",
   "execution_count": 50,
   "id": "7f4ec407",
   "metadata": {},
   "outputs": [
    {
     "data": {
      "text/html": [
       "<div>\n",
       "<style scoped>\n",
       "    .dataframe tbody tr th:only-of-type {\n",
       "        vertical-align: middle;\n",
       "    }\n",
       "\n",
       "    .dataframe tbody tr th {\n",
       "        vertical-align: top;\n",
       "    }\n",
       "\n",
       "    .dataframe thead th {\n",
       "        text-align: right;\n",
       "    }\n",
       "</style>\n",
       "<table border=\"1\" class=\"dataframe\">\n",
       "  <thead>\n",
       "    <tr style=\"text-align: right;\">\n",
       "      <th></th>\n",
       "      <th>name</th>\n",
       "      <th>toy</th>\n",
       "      <th>born</th>\n",
       "    </tr>\n",
       "  </thead>\n",
       "  <tbody>\n",
       "    <tr>\n",
       "      <th>1</th>\n",
       "      <td>Batman</td>\n",
       "      <td>Batmobile</td>\n",
       "      <td>1940-04-25</td>\n",
       "    </tr>\n",
       "    <tr>\n",
       "      <th>2</th>\n",
       "      <td>Alfred</td>\n",
       "      <td>Bullwhip</td>\n",
       "      <td>NaT</td>\n",
       "    </tr>\n",
       "  </tbody>\n",
       "</table>\n",
       "</div>"
      ],
      "text/plain": [
       "     name        toy       born\n",
       "1  Batman  Batmobile 1940-04-25\n",
       "2  Alfred   Bullwhip        NaT"
      ]
     },
     "execution_count": 50,
     "metadata": {},
     "output_type": "execute_result"
    }
   ],
   "source": [
    " df.drop_duplicates(subset=['name'], keep='last')"
   ]
  },
  {
   "cell_type": "code",
   "execution_count": 51,
   "id": "e8089d21",
   "metadata": {},
   "outputs": [
    {
     "data": {
      "text/html": [
       "<div>\n",
       "<style scoped>\n",
       "    .dataframe tbody tr th:only-of-type {\n",
       "        vertical-align: middle;\n",
       "    }\n",
       "\n",
       "    .dataframe tbody tr th {\n",
       "        vertical-align: top;\n",
       "    }\n",
       "\n",
       "    .dataframe thead th {\n",
       "        text-align: right;\n",
       "    }\n",
       "</style>\n",
       "<table border=\"1\" class=\"dataframe\">\n",
       "  <thead>\n",
       "    <tr style=\"text-align: right;\">\n",
       "      <th></th>\n",
       "      <th>name</th>\n",
       "      <th>toy</th>\n",
       "      <th>born</th>\n",
       "    </tr>\n",
       "  </thead>\n",
       "  <tbody>\n",
       "    <tr>\n",
       "      <th>1</th>\n",
       "      <td>Batman</td>\n",
       "      <td>Batmobile</td>\n",
       "      <td>1940-04-25</td>\n",
       "    </tr>\n",
       "  </tbody>\n",
       "</table>\n",
       "</div>"
      ],
      "text/plain": [
       "     name        toy       born\n",
       "1  Batman  Batmobile 1940-04-25"
      ]
     },
     "execution_count": 51,
     "metadata": {},
     "output_type": "execute_result"
    }
   ],
   "source": [
    "df.drop_duplicates(subset=['name'], keep=False)"
   ]
  },
  {
   "cell_type": "code",
   "execution_count": 52,
   "id": "35b3aec3",
   "metadata": {},
   "outputs": [
    {
     "data": {
      "text/plain": [
       "(3, 3)"
      ]
     },
     "execution_count": 52,
     "metadata": {},
     "output_type": "execute_result"
    }
   ],
   "source": [
    "df.shape"
   ]
  },
  {
   "cell_type": "code",
   "execution_count": 53,
   "id": "08fc02fd",
   "metadata": {},
   "outputs": [
    {
     "name": "stdout",
     "output_type": "stream",
     "text": [
      "<class 'pandas.core.frame.DataFrame'>\n",
      "RangeIndex: 3 entries, 0 to 2\n",
      "Data columns (total 3 columns):\n",
      " #   Column  Non-Null Count  Dtype         \n",
      "---  ------  --------------  -----         \n",
      " 0   name    3 non-null      object        \n",
      " 1   toy     2 non-null      object        \n",
      " 2   born    1 non-null      datetime64[ns]\n",
      "dtypes: datetime64[ns](1), object(2)\n",
      "memory usage: 200.0+ bytes\n"
     ]
    }
   ],
   "source": [
    "df.info()"
   ]
  },
  {
   "cell_type": "code",
   "execution_count": 54,
   "id": "1a135a2d",
   "metadata": {},
   "outputs": [
    {
     "data": {
      "text/plain": [
       "<bound method IndexOpsMixin.value_counts of 0    Alfred\n",
       "1    Batman\n",
       "2    Alfred\n",
       "Name: name, dtype: object>"
      ]
     },
     "execution_count": 54,
     "metadata": {},
     "output_type": "execute_result"
    }
   ],
   "source": [
    "df['name'].value_counts"
   ]
  },
  {
   "cell_type": "code",
   "execution_count": 55,
   "id": "cbbaa72c",
   "metadata": {},
   "outputs": [
    {
     "data": {
      "text/plain": [
       "Alfred    2\n",
       "Batman    1\n",
       "Name: name, dtype: int64"
      ]
     },
     "execution_count": 55,
     "metadata": {},
     "output_type": "execute_result"
    }
   ],
   "source": [
    "df['name'].value_counts(dropna=False)"
   ]
  },
  {
   "cell_type": "code",
   "execution_count": 56,
   "id": "f6c17dcb",
   "metadata": {},
   "outputs": [
    {
     "data": {
      "text/html": [
       "<div>\n",
       "<style scoped>\n",
       "    .dataframe tbody tr th:only-of-type {\n",
       "        vertical-align: middle;\n",
       "    }\n",
       "\n",
       "    .dataframe tbody tr th {\n",
       "        vertical-align: top;\n",
       "    }\n",
       "\n",
       "    .dataframe thead th {\n",
       "        text-align: right;\n",
       "    }\n",
       "</style>\n",
       "<table border=\"1\" class=\"dataframe\">\n",
       "  <thead>\n",
       "    <tr style=\"text-align: right;\">\n",
       "      <th></th>\n",
       "      <th>name</th>\n",
       "      <th>toy</th>\n",
       "      <th>born</th>\n",
       "    </tr>\n",
       "  </thead>\n",
       "  <tbody>\n",
       "    <tr>\n",
       "      <th>0</th>\n",
       "      <td>False</td>\n",
       "      <td>True</td>\n",
       "      <td>True</td>\n",
       "    </tr>\n",
       "    <tr>\n",
       "      <th>1</th>\n",
       "      <td>False</td>\n",
       "      <td>False</td>\n",
       "      <td>False</td>\n",
       "    </tr>\n",
       "    <tr>\n",
       "      <th>2</th>\n",
       "      <td>False</td>\n",
       "      <td>False</td>\n",
       "      <td>True</td>\n",
       "    </tr>\n",
       "  </tbody>\n",
       "</table>\n",
       "</div>"
      ],
      "text/plain": [
       "    name    toy   born\n",
       "0  False   True   True\n",
       "1  False  False  False\n",
       "2  False  False   True"
      ]
     },
     "execution_count": 56,
     "metadata": {},
     "output_type": "execute_result"
    }
   ],
   "source": [
    "df.isnull()"
   ]
  },
  {
   "cell_type": "code",
   "execution_count": 57,
   "id": "99795c96",
   "metadata": {},
   "outputs": [],
   "source": [
    "# create a dataframe which contains only integers with 3 rows and 2 columns"
   ]
  },
  {
   "cell_type": "code",
   "execution_count": 58,
   "id": "87b10858",
   "metadata": {},
   "outputs": [],
   "source": [
    "dict1 = {\n",
    "    \"name\":[\"Arpit\", \"Rohan\", \"Skillf\", \"Shubh\"],\n",
    "    \"marks\":[92,34,24,17],\n",
    "    \"city\":[\"Kanpur\",\"Kolkata\",\"Bareilly\",\"Antarctica\"]\n",
    "}"
   ]
  },
  {
   "cell_type": "code",
   "execution_count": 59,
   "id": "5b01b5bc",
   "metadata": {},
   "outputs": [
    {
     "data": {
      "text/plain": [
       "{'name': ['Arpit', 'Rohan', 'Skillf', 'Shubh'],\n",
       " 'marks': [92, 34, 24, 17],\n",
       " 'city': ['Kanpur', 'Kolkata', 'Bareilly', 'Antarctica']}"
      ]
     },
     "execution_count": 59,
     "metadata": {},
     "output_type": "execute_result"
    }
   ],
   "source": [
    "dict1"
   ]
  },
  {
   "cell_type": "code",
   "execution_count": 60,
   "id": "82bdd159",
   "metadata": {},
   "outputs": [
    {
     "data": {
      "text/plain": [
       "0    0.500446\n",
       "1    0.099541\n",
       "2    0.892494\n",
       "3    0.364049\n",
       "4    0.099760\n",
       "5    0.301080\n",
       "6    0.804007\n",
       "7    0.911416\n",
       "8    0.433096\n",
       "9    0.244238\n",
       "dtype: float64"
      ]
     },
     "execution_count": 60,
     "metadata": {},
     "output_type": "execute_result"
    }
   ],
   "source": [
    "arr = pd.Series(np.random.rand(10))\n",
    "arr"
   ]
  },
  {
   "cell_type": "code",
   "execution_count": 61,
   "id": "ca099c24",
   "metadata": {},
   "outputs": [
    {
     "data": {
      "text/plain": [
       "count    10.000000\n",
       "mean      0.465013\n",
       "std       0.307679\n",
       "min       0.099541\n",
       "25%       0.258449\n",
       "50%       0.398572\n",
       "75%       0.728117\n",
       "max       0.911416\n",
       "dtype: float64"
      ]
     },
     "execution_count": 61,
     "metadata": {},
     "output_type": "execute_result"
    }
   ],
   "source": [
    "arr.describe()"
   ]
  },
  {
   "cell_type": "code",
   "execution_count": 62,
   "id": "6ac1949e",
   "metadata": {},
   "outputs": [
    {
     "data": {
      "text/plain": [
       "0.4650126574817814"
      ]
     },
     "execution_count": 62,
     "metadata": {},
     "output_type": "execute_result"
    }
   ],
   "source": [
    "arr.mean()"
   ]
  },
  {
   "cell_type": "code",
   "execution_count": null,
   "id": "7ecfa9e3",
   "metadata": {},
   "outputs": [],
   "source": []
  },
  {
   "cell_type": "code",
   "execution_count": 63,
   "id": "ce52d378",
   "metadata": {},
   "outputs": [
    {
     "data": {
      "text/plain": [
       "10"
      ]
     },
     "execution_count": 63,
     "metadata": {},
     "output_type": "execute_result"
    }
   ],
   "source": [
    "arr.count()"
   ]
  },
  {
   "cell_type": "code",
   "execution_count": 64,
   "id": "825693ac",
   "metadata": {},
   "outputs": [
    {
     "data": {
      "text/plain": [
       "0.9114160275087593"
      ]
     },
     "execution_count": 64,
     "metadata": {},
     "output_type": "execute_result"
    }
   ],
   "source": [
    "arr.max()"
   ]
  },
  {
   "cell_type": "code",
   "execution_count": 65,
   "id": "ad40af9f",
   "metadata": {},
   "outputs": [
    {
     "data": {
      "text/plain": [
       "0.09954112635606704"
      ]
     },
     "execution_count": 65,
     "metadata": {},
     "output_type": "execute_result"
    }
   ],
   "source": [
    "arr.min()"
   ]
  },
  {
   "cell_type": "code",
   "execution_count": 66,
   "id": "97f10c22",
   "metadata": {},
   "outputs": [
    {
     "data": {
      "text/plain": [
       "0.3985721106872607"
      ]
     },
     "execution_count": 66,
     "metadata": {},
     "output_type": "execute_result"
    }
   ],
   "source": [
    "arr.median()"
   ]
  },
  {
   "cell_type": "code",
   "execution_count": 67,
   "id": "c1dcbffc",
   "metadata": {},
   "outputs": [
    {
     "data": {
      "text/plain": [
       "0.30767882933537527"
      ]
     },
     "execution_count": 67,
     "metadata": {},
     "output_type": "execute_result"
    }
   ],
   "source": [
    "arr.std()"
   ]
  },
  {
   "cell_type": "code",
   "execution_count": 68,
   "id": "247c13ec",
   "metadata": {},
   "outputs": [
    {
     "data": {
      "text/plain": [
       "<bound method Series.corr of 0    0.500446\n",
       "1    0.099541\n",
       "2    0.892494\n",
       "3    0.364049\n",
       "4    0.099760\n",
       "5    0.301080\n",
       "6    0.804007\n",
       "7    0.911416\n",
       "8    0.433096\n",
       "9    0.244238\n",
       "dtype: float64>"
      ]
     },
     "execution_count": 68,
     "metadata": {},
     "output_type": "execute_result"
    }
   ],
   "source": [
    "arr.corr"
   ]
  },
  {
   "cell_type": "code",
   "execution_count": null,
   "id": "12886fe2",
   "metadata": {},
   "outputs": [],
   "source": []
  }
 ],
 "metadata": {
  "kernelspec": {
   "display_name": "Python 3 (ipykernel)",
   "language": "python",
   "name": "python3"
  },
  "language_info": {
   "codemirror_mode": {
    "name": "ipython",
    "version": 3
   },
   "file_extension": ".py",
   "mimetype": "text/x-python",
   "name": "python",
   "nbconvert_exporter": "python",
   "pygments_lexer": "ipython3",
   "version": "3.9.7"
  }
 },
 "nbformat": 4,
 "nbformat_minor": 5
}
